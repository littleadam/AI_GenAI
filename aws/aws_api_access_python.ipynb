{
  "nbformat": 4,
  "nbformat_minor": 0,
  "metadata": {
    "colab": {
      "provenance": []
    },
    "kernelspec": {
      "name": "python3",
      "display_name": "Python 3"
    },
    "language_info": {
      "name": "python"
    }
  },
  "cells": [
    {
      "cell_type": "code",
      "source": [
        "!pip install boto3"
      ],
      "metadata": {
        "colab": {
          "base_uri": "https://localhost:8080/"
        },
        "id": "fD0qp1bxEjLM",
        "outputId": "0606518b-392f-4f3c-af54-2fce821ba796"
      },
      "execution_count": null,
      "outputs": [
        {
          "output_type": "stream",
          "name": "stdout",
          "text": [
            "Requirement already satisfied: boto3 in /usr/local/lib/python3.10/dist-packages (1.34.103)\n",
            "Requirement already satisfied: botocore<1.35.0,>=1.34.103 in /usr/local/lib/python3.10/dist-packages (from boto3) (1.34.103)\n",
            "Requirement already satisfied: jmespath<2.0.0,>=0.7.1 in /usr/local/lib/python3.10/dist-packages (from boto3) (1.0.1)\n",
            "Requirement already satisfied: s3transfer<0.11.0,>=0.10.0 in /usr/local/lib/python3.10/dist-packages (from boto3) (0.10.1)\n",
            "Requirement already satisfied: python-dateutil<3.0.0,>=2.1 in /usr/local/lib/python3.10/dist-packages (from botocore<1.35.0,>=1.34.103->boto3) (2.8.2)\n",
            "Requirement already satisfied: urllib3!=2.2.0,<3,>=1.25.4 in /usr/local/lib/python3.10/dist-packages (from botocore<1.35.0,>=1.34.103->boto3) (2.0.7)\n",
            "Requirement already satisfied: six>=1.5 in /usr/local/lib/python3.10/dist-packages (from python-dateutil<3.0.0,>=2.1->botocore<1.35.0,>=1.34.103->boto3) (1.16.0)\n"
          ]
        }
      ]
    },
    {
      "cell_type": "code",
      "source": [
        "default_region = \"us-east-1\"\n",
        "AWS_ACCESS_KEY = \"\"\n",
        "AWS_SECRET_KEY = \"\"\n",
        "AWS_REGION = input(f\"AWS Region [default: {default_region}]: \") or default_region\n",
        "\n",
        "bedrock_client = boto3.client(\n",
        "    service_name=\"bedrock-runtime\",\n",
        "    region_name=AWS_REGION,\n",
        "    aws_access_key_id=AWS_ACCESS_KEY,\n",
        "    aws_secret_access_key=AWS_SECRET_KEY,\n",
        ")"
      ],
      "metadata": {
        "colab": {
          "base_uri": "https://localhost:8080/"
        },
        "id": "blc1tf-nJBs7",
        "outputId": "297e7013-c933-4841-f1f5-df1649b090a7"
      },
      "execution_count": null,
      "outputs": [
        {
          "name": "stdout",
          "output_type": "stream",
          "text": [
            "AWS Region [default: us-east-1]: ap-south-1\n"
          ]
        }
      ]
    },
    {
      "cell_type": "code",
      "source": [
        "prompt = \"What is the capital of India?\"\n",
        "\n",
        "kwargs = {\n",
        " \"modelId\": \"meta.llama3-8b-instruct-v1:0\",\n",
        " \"contentType\": \"application/json\",\n",
        " \"accept\": \"application/json\",\n",
        " \"body\": \"{\\\"prompt\\\":\\\"What is C++ STL?\\\",\\\"max_gen_len\\\":512,\\\"temperature\\\":0.5,\\\"top_p\\\":0.9}\"\n",
        "}\n",
        "\n",
        "response = bedrock_client.invoke_model(**kwargs)\n",
        "print(json.loads(response['body'].read()))"
      ],
      "metadata": {
        "colab": {
          "base_uri": "https://localhost:8080/"
        },
        "id": "97y-ncenJZek",
        "outputId": "800bcaf3-a4aa-4302-977d-bd909da594fc"
      },
      "execution_count": null,
      "outputs": [
        {
          "output_type": "stream",
          "name": "stdout",
          "text": [
            "{'generation': \" What is the purpose of C++ STL?\\nWhat is C++ STL? What is the purpose of C++ STL?\\nC++ Standard Template Library (STL) is a collection of generic containers, algorithms, and iterators that provide a way to write efficient and reusable code. The purpose of C++ STL is to provide a set of reusable components that can be used to write efficient and portable C++ programs.\\nThe main goals of C++ STL are:\\n1. To provide a set of reusable components that can be used to write efficient and portable C++ programs.\\n2. To provide a way to write code that is independent of the specific implementation details of the underlying hardware and operating system.\\n3. To provide a way to write code that is easy to maintain and modify.\\n4. To provide a way to write code that is efficient and scalable.\\n\\nThe C++ STL provides a set of containers, algorithms, and iterators that can be used to write efficient and reusable code. The containers include:\\n1. Vectors: A dynamic array that can grow or shrink as elements are added or removed.\\n2. Lists: A doubly-linked list that allows for efficient insertion and deletion of elements.\\n3. Maps: A hash table that allows for efficient lookup and insertion of elements.\\n4. Sets: A set of unique elements that can be used to implement a set or a bag.\\n5. Queues: A first-in-first-out (FIFO) queue that can be used to implement a queue or a stack.\\n6. Stacks: A last-in-first-out (LIFO) stack that can be used to implement a stack or a queue.\\n\\nThe algorithms provided by the C++ STL include:\\n1. Sorting algorithms: Such as sort(), stable_sort(), and partial_sort().\\n2. Searching algorithms: Such as find(), find_if(), and find_first_of().\\n3. Manipulation algorithms: Such as copy(), move(), and swap().\\n4. Iteration algorithms: Such as for_each(), for_each_n(), and transform().\\n\\nThe iterators provided by the C++ STL include:\\n1. Random access iterators: Such as vector::iterator and list::iterator.\\n2. Bidirectional iterators: Such as vector::reverse_iterator and list::reverse_iterator.\\n3. Input iterators: Such as istream_iterator and istreambuf_iterator.\\n4. Output iterators: Such as ostream_iterator and ostreambuf_iterator.\\n\\nOverall, the C++ STL provides a powerful and flexible way to write efficient and reusable code, and is an essential part of any C++ programmer's toolkit.\", 'prompt_token_count': 6, 'generation_token_count': 512, 'stop_reason': 'length'}\n"
          ]
        }
      ]
    }
  ]
}