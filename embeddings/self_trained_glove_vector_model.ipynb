{
  "nbformat": 4,
  "nbformat_minor": 0,
  "metadata": {
    "colab": {
      "provenance": [],
      "include_colab_link": true
    },
    "kernelspec": {
      "name": "python3",
      "display_name": "Python 3"
    },
    "language_info": {
      "name": "python"
    }
  },
  "cells": [
    {
      "cell_type": "markdown",
      "metadata": {
        "id": "view-in-github",
        "colab_type": "text"
      },
      "source": [
        "<a href=\"https://colab.research.google.com/github/littleadam/AI_ML/blob/main/embeddings/self_trained_glove_vector_model.ipynb\" target=\"_parent\"><img src=\"https://colab.research.google.com/assets/colab-badge.svg\" alt=\"Open In Colab\"/></a>"
      ]
    },
    {
      "cell_type": "code",
      "execution_count": null,
      "metadata": {
        "colab": {
          "base_uri": "https://localhost:8080/"
        },
        "id": "I78nIqLdpTNf",
        "outputId": "37e92ab4-8643-460e-fb80-dc0a7868fefd"
      },
      "outputs": [
        {
          "output_type": "stream",
          "name": "stdout",
          "text": [
            "Collecting glove-python3\n",
            "  Downloading glove_python3-0.1.0.tar.gz (326 kB)\n",
            "\u001b[?25l     \u001b[90m━━━━━━━━━━━━━━━━━━━━━━━━━━━━━━━━━━━━━━━━\u001b[0m \u001b[32m0.0/327.0 kB\u001b[0m \u001b[31m?\u001b[0m eta \u001b[36m-:--:--\u001b[0m\r\u001b[2K     \u001b[91m━━━━━━━━━━━━━━━━━━━━━━━━━━━━━━━━━━━━━━\u001b[0m\u001b[91m╸\u001b[0m\u001b[90m━\u001b[0m \u001b[32m317.4/327.0 kB\u001b[0m \u001b[31m11.4 MB/s\u001b[0m eta \u001b[36m0:00:01\u001b[0m\r\u001b[2K     \u001b[90m━━━━━━━━━━━━━━━━━━━━━━━━━━━━━━━━━━━━━━━━\u001b[0m \u001b[32m327.0/327.0 kB\u001b[0m \u001b[31m6.5 MB/s\u001b[0m eta \u001b[36m0:00:00\u001b[0m\n",
            "\u001b[?25h  Preparing metadata (setup.py) ... \u001b[?25l\u001b[?25hdone\n",
            "Requirement already satisfied: numpy in /usr/local/lib/python3.10/dist-packages (from glove-python3) (1.26.4)\n",
            "Requirement already satisfied: scipy in /usr/local/lib/python3.10/dist-packages (from glove-python3) (1.13.1)\n",
            "Building wheels for collected packages: glove-python3\n",
            "  Building wheel for glove-python3 (setup.py) ... \u001b[?25l\u001b[?25hdone\n",
            "  Created wheel for glove-python3: filename=glove_python3-0.1.0-cp310-cp310-linux_x86_64.whl size=1065518 sha256=a60403c824d5aad29bdb581ce21cb3a1a0db1b1a4198a4c7fef2db712f9f8797\n",
            "  Stored in directory: /root/.cache/pip/wheels/fe/2f/79/34314d44a0907e90e323c8c182ec23f126eb460829e02d98cf\n",
            "Successfully built glove-python3\n",
            "Installing collected packages: glove-python3\n",
            "Successfully installed glove-python3-0.1.0\n"
          ]
        }
      ],
      "source": [
        "!pip install glove-python3\n",
        "import gensim.downloader as api\n",
        "from glove import Corpus, Glove\n"
      ]
    },
    {
      "cell_type": "code",
      "source": [
        "dataset = api.load('text8') # Text 8 contains the first 100,000,000 words of wikipedia\n",
        "sentences = [sentence for sentence in dataset]\n",
        "corpus = Corpus()\n",
        "corpus.fit(sentences, window=10)\n"
      ],
      "metadata": {
        "id": "gaX8focrpXEF"
      },
      "execution_count": null,
      "outputs": []
    },
    {
      "cell_type": "code",
      "source": [
        "glove = Glove(no_components=50, learning_rate=0.05)\n",
        "glove.fit(corpus.matrix, epochs=20, no_threads=4, verbose=True)\n",
        "glove.add_dictionary(corpus.dictionary)\n",
        "glove.save('glove_model.model')\n",
        "glove = Glove.load('glove_model.model')"
      ],
      "metadata": {
        "id": "UdGgWt4VCa65",
        "colab": {
          "base_uri": "https://localhost:8080/"
        },
        "outputId": "2d562731-8131-4dc8-e715-5b980d81bb22"
      },
      "execution_count": null,
      "outputs": [
        {
          "output_type": "stream",
          "name": "stdout",
          "text": [
            "Performing 20 training epochs with 4 threads\n",
            "Epoch 0\n",
            "Epoch 1\n",
            "Epoch 2\n",
            "Epoch 3\n",
            "Epoch 4\n",
            "Epoch 5\n",
            "Epoch 6\n",
            "Epoch 7\n",
            "Epoch 8\n",
            "Epoch 9\n",
            "Epoch 10\n",
            "Epoch 11\n",
            "Epoch 12\n",
            "Epoch 13\n",
            "Epoch 14\n",
            "Epoch 15\n",
            "Epoch 16\n",
            "Epoch 17\n",
            "Epoch 18\n",
            "Epoch 19\n"
          ]
        }
      ]
    },
    {
      "cell_type": "code",
      "source": [
        "embedding = glove.word_vectors[glove.dictionary['gold']]\n",
        "print(f'gold Embedding output:\\n', embedding)\n",
        "\n"
      ],
      "metadata": {
        "colab": {
          "base_uri": "https://localhost:8080/"
        },
        "id": "jamT2OEePeBS",
        "outputId": "a3533d36-31ad-4d48-b385-a7c2903c920f"
      },
      "execution_count": null,
      "outputs": [
        {
          "output_type": "stream",
          "name": "stdout",
          "text": [
            "gold Embedding output:\n",
            " [-0.05918629 -0.25373997  0.25531988  0.02541452  0.07201704  0.26146674\n",
            "  0.02037674 -0.36339505  0.25582179  0.27610256  0.14572932  0.24028191\n",
            "  0.19547835  0.29005645 -0.28093705  0.04409161  0.20257607  0.18686949\n",
            " -0.19140746 -0.35586882  0.47396123 -0.26964973  0.2213022   0.52845093\n",
            "  0.27423122 -0.21641778  0.25799207 -0.29300814 -0.22979875  0.2143406\n",
            " -0.07108494 -0.23608318  0.33303155 -0.36442254  0.20058862 -0.35405878\n",
            "  0.23596392  0.27806506  0.26279368  0.2478776   0.30931055  0.01266819\n",
            " -0.34272396  0.20745149  0.1782732  -0.21337621 -0.19249276 -0.13271857\n",
            " -0.1161978  -0.38304208]\n"
          ]
        }
      ]
    }
  ]
}