{
  "cells": [
    {
      "cell_type": "markdown",
      "id": "728f1747-b8fc-4d31-96c2-047fc83c079d",
      "metadata": {
        "id": "728f1747-b8fc-4d31-96c2-047fc83c079d"
      },
      "source": [
        "#  Simple Sequential Chain"
      ]
    },
    {
      "cell_type": "code",
      "source": [
        "!pip install openai"
      ],
      "metadata": {
        "colab": {
          "base_uri": "https://localhost:8080/"
        },
        "id": "ehGuFihVeLZH",
        "outputId": "8be5f102-10f1-4c89-a496-a69cd88598d8"
      },
      "id": "ehGuFihVeLZH",
      "execution_count": null,
      "outputs": [
        {
          "output_type": "stream",
          "name": "stdout",
          "text": [
            "Collecting openai\n",
            "  Downloading openai-1.23.3-py3-none-any.whl (311 kB)\n",
            "\u001b[?25l     \u001b[90m━━━━━━━━━━━━━━━━━━━━━━━━━━━━━━━━━━━━━━━━\u001b[0m \u001b[32m0.0/311.5 kB\u001b[0m \u001b[31m?\u001b[0m eta \u001b[36m-:--:--\u001b[0m\r\u001b[2K     \u001b[91m━━━━━━━━━━━━━━━━━━━━━\u001b[0m\u001b[90m╺\u001b[0m\u001b[90m━━━━━━━━━━━━━━━━━━\u001b[0m \u001b[32m163.8/311.5 kB\u001b[0m \u001b[31m4.6 MB/s\u001b[0m eta \u001b[36m0:00:01\u001b[0m\r\u001b[2K     \u001b[90m━━━━━━━━━━━━━━━━━━━━━━━━━━━━━━━━━━━━━━━━\u001b[0m \u001b[32m311.5/311.5 kB\u001b[0m \u001b[31m5.1 MB/s\u001b[0m eta \u001b[36m0:00:00\u001b[0m\n",
            "\u001b[?25hRequirement already satisfied: anyio<5,>=3.5.0 in /usr/local/lib/python3.10/dist-packages (from openai) (3.7.1)\n",
            "Requirement already satisfied: distro<2,>=1.7.0 in /usr/lib/python3/dist-packages (from openai) (1.7.0)\n",
            "Collecting httpx<1,>=0.23.0 (from openai)\n",
            "  Downloading httpx-0.27.0-py3-none-any.whl (75 kB)\n",
            "\u001b[2K     \u001b[90m━━━━━━━━━━━━━━━━━━━━━━━━━━━━━━━━━━━━━━━━\u001b[0m \u001b[32m75.6/75.6 kB\u001b[0m \u001b[31m7.5 MB/s\u001b[0m eta \u001b[36m0:00:00\u001b[0m\n",
            "\u001b[?25hRequirement already satisfied: pydantic<3,>=1.9.0 in /usr/local/lib/python3.10/dist-packages (from openai) (2.7.0)\n",
            "Requirement already satisfied: sniffio in /usr/local/lib/python3.10/dist-packages (from openai) (1.3.1)\n",
            "Requirement already satisfied: tqdm>4 in /usr/local/lib/python3.10/dist-packages (from openai) (4.66.2)\n",
            "Requirement already satisfied: typing-extensions<5,>=4.7 in /usr/local/lib/python3.10/dist-packages (from openai) (4.11.0)\n",
            "Requirement already satisfied: idna>=2.8 in /usr/local/lib/python3.10/dist-packages (from anyio<5,>=3.5.0->openai) (3.7)\n",
            "Requirement already satisfied: exceptiongroup in /usr/local/lib/python3.10/dist-packages (from anyio<5,>=3.5.0->openai) (1.2.1)\n",
            "Requirement already satisfied: certifi in /usr/local/lib/python3.10/dist-packages (from httpx<1,>=0.23.0->openai) (2024.2.2)\n",
            "Collecting httpcore==1.* (from httpx<1,>=0.23.0->openai)\n",
            "  Downloading httpcore-1.0.5-py3-none-any.whl (77 kB)\n",
            "\u001b[2K     \u001b[90m━━━━━━━━━━━━━━━━━━━━━━━━━━━━━━━━━━━━━━━━\u001b[0m \u001b[32m77.9/77.9 kB\u001b[0m \u001b[31m8.8 MB/s\u001b[0m eta \u001b[36m0:00:00\u001b[0m\n",
            "\u001b[?25hCollecting h11<0.15,>=0.13 (from httpcore==1.*->httpx<1,>=0.23.0->openai)\n",
            "  Downloading h11-0.14.0-py3-none-any.whl (58 kB)\n",
            "\u001b[2K     \u001b[90m━━━━━━━━━━━━━━━━━━━━━━━━━━━━━━━━━━━━━━━━\u001b[0m \u001b[32m58.3/58.3 kB\u001b[0m \u001b[31m7.0 MB/s\u001b[0m eta \u001b[36m0:00:00\u001b[0m\n",
            "\u001b[?25hRequirement already satisfied: annotated-types>=0.4.0 in /usr/local/lib/python3.10/dist-packages (from pydantic<3,>=1.9.0->openai) (0.6.0)\n",
            "Requirement already satisfied: pydantic-core==2.18.1 in /usr/local/lib/python3.10/dist-packages (from pydantic<3,>=1.9.0->openai) (2.18.1)\n",
            "Installing collected packages: h11, httpcore, httpx, openai\n",
            "Successfully installed h11-0.14.0 httpcore-1.0.5 httpx-0.27.0 openai-1.23.3\n"
          ]
        }
      ]
    },
    {
      "cell_type": "code",
      "source": [
        "!pip install langchain"
      ],
      "metadata": {
        "colab": {
          "base_uri": "https://localhost:8080/"
        },
        "id": "cCzSBzjKdfH_",
        "outputId": "8bd19d22-c1d6-459b-a257-367c9687fb47"
      },
      "id": "cCzSBzjKdfH_",
      "execution_count": null,
      "outputs": [
        {
          "output_type": "stream",
          "name": "stdout",
          "text": [
            "Collecting langchain\n",
            "  Downloading langchain-0.1.16-py3-none-any.whl (817 kB)\n",
            "\u001b[2K     \u001b[90m━━━━━━━━━━━━━━━━━━━━━━━━━━━━━━━━━━━━━━━━\u001b[0m \u001b[32m817.7/817.7 kB\u001b[0m \u001b[31m9.1 MB/s\u001b[0m eta \u001b[36m0:00:00\u001b[0m\n",
            "\u001b[?25hRequirement already satisfied: PyYAML>=5.3 in /usr/local/lib/python3.10/dist-packages (from langchain) (6.0.1)\n",
            "Requirement already satisfied: SQLAlchemy<3,>=1.4 in /usr/local/lib/python3.10/dist-packages (from langchain) (2.0.29)\n",
            "Requirement already satisfied: aiohttp<4.0.0,>=3.8.3 in /usr/local/lib/python3.10/dist-packages (from langchain) (3.9.5)\n",
            "Requirement already satisfied: async-timeout<5.0.0,>=4.0.0 in /usr/local/lib/python3.10/dist-packages (from langchain) (4.0.3)\n",
            "Collecting dataclasses-json<0.7,>=0.5.7 (from langchain)\n",
            "  Downloading dataclasses_json-0.6.4-py3-none-any.whl (28 kB)\n",
            "Collecting jsonpatch<2.0,>=1.33 (from langchain)\n",
            "  Downloading jsonpatch-1.33-py2.py3-none-any.whl (12 kB)\n",
            "Collecting langchain-community<0.1,>=0.0.32 (from langchain)\n",
            "  Downloading langchain_community-0.0.34-py3-none-any.whl (1.9 MB)\n",
            "\u001b[2K     \u001b[90m━━━━━━━━━━━━━━━━━━━━━━━━━━━━━━━━━━━━━━━━\u001b[0m \u001b[32m1.9/1.9 MB\u001b[0m \u001b[31m24.9 MB/s\u001b[0m eta \u001b[36m0:00:00\u001b[0m\n",
            "\u001b[?25hCollecting langchain-core<0.2.0,>=0.1.42 (from langchain)\n",
            "  Downloading langchain_core-0.1.45-py3-none-any.whl (291 kB)\n",
            "\u001b[2K     \u001b[90m━━━━━━━━━━━━━━━━━━━━━━━━━━━━━━━━━━━━━━━━\u001b[0m \u001b[32m291.3/291.3 kB\u001b[0m \u001b[31m21.7 MB/s\u001b[0m eta \u001b[36m0:00:00\u001b[0m\n",
            "\u001b[?25hCollecting langchain-text-splitters<0.1,>=0.0.1 (from langchain)\n",
            "  Downloading langchain_text_splitters-0.0.1-py3-none-any.whl (21 kB)\n",
            "Collecting langsmith<0.2.0,>=0.1.17 (from langchain)\n",
            "  Downloading langsmith-0.1.50-py3-none-any.whl (115 kB)\n",
            "\u001b[2K     \u001b[90m━━━━━━━━━━━━━━━━━━━━━━━━━━━━━━━━━━━━━━━━\u001b[0m \u001b[32m115.5/115.5 kB\u001b[0m \u001b[31m14.4 MB/s\u001b[0m eta \u001b[36m0:00:00\u001b[0m\n",
            "\u001b[?25hRequirement already satisfied: numpy<2,>=1 in /usr/local/lib/python3.10/dist-packages (from langchain) (1.25.2)\n",
            "Requirement already satisfied: pydantic<3,>=1 in /usr/local/lib/python3.10/dist-packages (from langchain) (2.7.0)\n",
            "Requirement already satisfied: requests<3,>=2 in /usr/local/lib/python3.10/dist-packages (from langchain) (2.31.0)\n",
            "Requirement already satisfied: tenacity<9.0.0,>=8.1.0 in /usr/local/lib/python3.10/dist-packages (from langchain) (8.2.3)\n",
            "Requirement already satisfied: aiosignal>=1.1.2 in /usr/local/lib/python3.10/dist-packages (from aiohttp<4.0.0,>=3.8.3->langchain) (1.3.1)\n",
            "Requirement already satisfied: attrs>=17.3.0 in /usr/local/lib/python3.10/dist-packages (from aiohttp<4.0.0,>=3.8.3->langchain) (23.2.0)\n",
            "Requirement already satisfied: frozenlist>=1.1.1 in /usr/local/lib/python3.10/dist-packages (from aiohttp<4.0.0,>=3.8.3->langchain) (1.4.1)\n",
            "Requirement already satisfied: multidict<7.0,>=4.5 in /usr/local/lib/python3.10/dist-packages (from aiohttp<4.0.0,>=3.8.3->langchain) (6.0.5)\n",
            "Requirement already satisfied: yarl<2.0,>=1.0 in /usr/local/lib/python3.10/dist-packages (from aiohttp<4.0.0,>=3.8.3->langchain) (1.9.4)\n",
            "Collecting marshmallow<4.0.0,>=3.18.0 (from dataclasses-json<0.7,>=0.5.7->langchain)\n",
            "  Downloading marshmallow-3.21.1-py3-none-any.whl (49 kB)\n",
            "\u001b[2K     \u001b[90m━━━━━━━━━━━━━━━━━━━━━━━━━━━━━━━━━━━━━━━━\u001b[0m \u001b[32m49.4/49.4 kB\u001b[0m \u001b[31m5.6 MB/s\u001b[0m eta \u001b[36m0:00:00\u001b[0m\n",
            "\u001b[?25hCollecting typing-inspect<1,>=0.4.0 (from dataclasses-json<0.7,>=0.5.7->langchain)\n",
            "  Downloading typing_inspect-0.9.0-py3-none-any.whl (8.8 kB)\n",
            "Collecting jsonpointer>=1.9 (from jsonpatch<2.0,>=1.33->langchain)\n",
            "  Downloading jsonpointer-2.4-py2.py3-none-any.whl (7.8 kB)\n",
            "Collecting packaging<24.0,>=23.2 (from langchain-core<0.2.0,>=0.1.42->langchain)\n",
            "  Downloading packaging-23.2-py3-none-any.whl (53 kB)\n",
            "\u001b[2K     \u001b[90m━━━━━━━━━━━━━━━━━━━━━━━━━━━━━━━━━━━━━━━━\u001b[0m \u001b[32m53.0/53.0 kB\u001b[0m \u001b[31m5.4 MB/s\u001b[0m eta \u001b[36m0:00:00\u001b[0m\n",
            "\u001b[?25hCollecting orjson<4.0.0,>=3.9.14 (from langsmith<0.2.0,>=0.1.17->langchain)\n",
            "  Downloading orjson-3.10.1-cp310-cp310-manylinux_2_17_x86_64.manylinux2014_x86_64.whl (141 kB)\n",
            "\u001b[2K     \u001b[90m━━━━━━━━━━━━━━━━━━━━━━━━━━━━━━━━━━━━━━━━\u001b[0m \u001b[32m141.1/141.1 kB\u001b[0m \u001b[31m15.5 MB/s\u001b[0m eta \u001b[36m0:00:00\u001b[0m\n",
            "\u001b[?25hRequirement already satisfied: annotated-types>=0.4.0 in /usr/local/lib/python3.10/dist-packages (from pydantic<3,>=1->langchain) (0.6.0)\n",
            "Requirement already satisfied: pydantic-core==2.18.1 in /usr/local/lib/python3.10/dist-packages (from pydantic<3,>=1->langchain) (2.18.1)\n",
            "Requirement already satisfied: typing-extensions>=4.6.1 in /usr/local/lib/python3.10/dist-packages (from pydantic<3,>=1->langchain) (4.11.0)\n",
            "Requirement already satisfied: charset-normalizer<4,>=2 in /usr/local/lib/python3.10/dist-packages (from requests<3,>=2->langchain) (3.3.2)\n",
            "Requirement already satisfied: idna<4,>=2.5 in /usr/local/lib/python3.10/dist-packages (from requests<3,>=2->langchain) (3.7)\n",
            "Requirement already satisfied: urllib3<3,>=1.21.1 in /usr/local/lib/python3.10/dist-packages (from requests<3,>=2->langchain) (2.0.7)\n",
            "Requirement already satisfied: certifi>=2017.4.17 in /usr/local/lib/python3.10/dist-packages (from requests<3,>=2->langchain) (2024.2.2)\n",
            "Requirement already satisfied: greenlet!=0.4.17 in /usr/local/lib/python3.10/dist-packages (from SQLAlchemy<3,>=1.4->langchain) (3.0.3)\n",
            "Collecting mypy-extensions>=0.3.0 (from typing-inspect<1,>=0.4.0->dataclasses-json<0.7,>=0.5.7->langchain)\n",
            "  Downloading mypy_extensions-1.0.0-py3-none-any.whl (4.7 kB)\n",
            "Installing collected packages: packaging, orjson, mypy-extensions, jsonpointer, typing-inspect, marshmallow, jsonpatch, langsmith, dataclasses-json, langchain-core, langchain-text-splitters, langchain-community, langchain\n",
            "  Attempting uninstall: packaging\n",
            "    Found existing installation: packaging 24.0\n",
            "    Uninstalling packaging-24.0:\n",
            "      Successfully uninstalled packaging-24.0\n",
            "Successfully installed dataclasses-json-0.6.4 jsonpatch-1.33 jsonpointer-2.4 langchain-0.1.16 langchain-community-0.0.34 langchain-core-0.1.45 langchain-text-splitters-0.0.1 langsmith-0.1.50 marshmallow-3.21.1 mypy-extensions-1.0.0 orjson-3.10.1 packaging-23.2 typing-inspect-0.9.0\n"
          ]
        }
      ]
    },
    {
      "cell_type": "code",
      "execution_count": null,
      "id": "5f4cb796-3ea3-4a63-96a3-58d9be1991a8",
      "metadata": {
        "id": "5f4cb796-3ea3-4a63-96a3-58d9be1991a8"
      },
      "outputs": [],
      "source": [
        "from langchain.chat_models import ChatOpenAI\n",
        "from langchain.prompts import ChatPromptTemplate\n",
        "from langchain.chains import SimpleSequentialChain, LLMChain"
      ]
    },
    {
      "cell_type": "code",
      "source": [
        "import openai"
      ],
      "metadata": {
        "id": "mSq6R06YeKBm"
      },
      "id": "mSq6R06YeKBm",
      "execution_count": null,
      "outputs": []
    },
    {
      "cell_type": "code",
      "execution_count": null,
      "id": "ee4cf672-8071-42c1-917a-f04c2f88c8d6",
      "metadata": {
        "id": "ee4cf672-8071-42c1-917a-f04c2f88c8d6"
      },
      "outputs": [],
      "source": [
        "llm = ChatOpenAI()"
      ]
    },
    {
      "cell_type": "code",
      "execution_count": null,
      "id": "75505659-35af-4eec-a890-42ab4486ea9a",
      "metadata": {
        "id": "75505659-35af-4eec-a890-42ab4486ea9a"
      },
      "outputs": [],
      "source": [
        "template = \"Give me a simple bullet point outline for a blog post on {topic}\"\n",
        "first_prompt = ChatPromptTemplate.from_template(template)\n",
        "chain_one = LLMChain(llm=llm,prompt=first_prompt)"
      ]
    },
    {
      "cell_type": "code",
      "execution_count": null,
      "id": "24b974d6-446f-4328-b2af-eda7041f6587",
      "metadata": {
        "id": "24b974d6-446f-4328-b2af-eda7041f6587"
      },
      "outputs": [],
      "source": [
        "template = \"Write a blog post using this outline: {outline}\"\n",
        "second_prompt = ChatPromptTemplate.from_template(template)\n",
        "chain_two = LLMChain(llm=llm,prompt=second_prompt)"
      ]
    },
    {
      "cell_type": "code",
      "execution_count": null,
      "id": "9f3919a0-fee1-48bb-aeab-4be80f4799fc",
      "metadata": {
        "id": "9f3919a0-fee1-48bb-aeab-4be80f4799fc"
      },
      "outputs": [],
      "source": [
        "full_chain = SimpleSequentialChain(chains=[chain_one,chain_two],\n",
        "                                  verbose=True)"
      ]
    },
    {
      "cell_type": "code",
      "execution_count": null,
      "id": "23708ed6-3511-4adb-83ad-ca24cd936fd8",
      "metadata": {
        "colab": {
          "base_uri": "https://localhost:8080/"
        },
        "id": "23708ed6-3511-4adb-83ad-ca24cd936fd8",
        "outputId": "e6b1ef53-4ebd-4da6-8dbc-887007b338fb"
      },
      "outputs": [
        {
          "output_type": "stream",
          "name": "stderr",
          "text": [
            "/usr/local/lib/python3.10/dist-packages/langchain_core/_api/deprecation.py:119: LangChainDeprecationWarning: The method `Chain.run` was deprecated in langchain 0.1.0 and will be removed in 0.2.0. Use invoke instead.\n",
            "  warn_deprecated(\n"
          ]
        },
        {
          "output_type": "stream",
          "name": "stdout",
          "text": [
            "\n",
            "\n",
            "\u001b[1m> Entering new SimpleSequentialChain chain...\u001b[0m\n",
            "\u001b[36;1m\u001b[1;3m- Introduction to Data Science\n",
            "- Importance of Data Science in today's world\n",
            "- Understanding the role of data scientists\n",
            "- Key skills required for a career in Data Science\n",
            "- How Data Science is used in various industries\n",
            "- Challenges and opportunities in the field of Data Science\n",
            "- Tips for getting started in Data Science\n",
            "- Resources for learning more about Data Science\n",
            "- Conclusion highlighting the impact and potential of Data Science in the future.\u001b[0m\n",
            "\u001b[33;1m\u001b[1;3mIn today's digital age, data has become one of the most valuable assets for businesses and organizations. The ability to collect, analyze, and interpret data has given rise to the field of Data Science, which plays a crucial role in driving decision-making and innovation across industries. In this blog post, we will explore the world of Data Science, its importance, key skills required, and how it is used in various sectors.\n",
            "\n",
            "Data Science is a multidisciplinary field that combines statistics, mathematics, computer science, and domain knowledge to extract meaningful insights from data. It involves the use of various tools and techniques to analyze large volumes of structured and unstructured data, and uncover patterns, trends, and relationships that can be used to make informed decisions.\n",
            "\n",
            "The importance of Data Science in today's world cannot be overstated. With the exponential growth of data being generated every day, organizations are increasingly relying on data-driven insights to gain a competitive edge, optimize operations, and deliver personalized experiences to customers. Data Science has revolutionized industries such as healthcare, finance, retail, and marketing, enabling businesses to improve efficiency, reduce costs, and drive innovation.\n",
            "\n",
            "Data scientists play a critical role in the field of Data Science. They are responsible for collecting, cleaning, and analyzing data, developing algorithms and models, and communicating insights to stakeholders. Key skills required for a career in Data Science include programming languages such as Python and R, statistical analysis, machine learning, data visualization, and domain expertise in a specific industry.\n",
            "\n",
            "Data Science is used in various industries to solve complex problems and drive business growth. In healthcare, Data Science is used to analyze patient data and develop predictive models for disease diagnosis and treatment. In finance, it is used for fraud detection, risk assessment, and algorithmic trading. In retail, Data Science is used for demand forecasting, customer segmentation, and personalized marketing campaigns.\n",
            "\n",
            "Despite the immense opportunities in the field of Data Science, there are also challenges that come with it. These include data privacy and security concerns, data quality issues, and the need for continuous learning and upskilling. However, with the right mindset and determination, aspiring data scientists can overcome these challenges and build a successful career in this rapidly growing field.\n",
            "\n",
            "For those looking to get started in Data Science, there are several tips to keep in mind. These include gaining hands-on experience through projects and internships, networking with professionals in the field, and continuously updating your skills and knowledge. There are also numerous online courses, bootcamps, and resources available for learning more about Data Science, such as Coursera, Udemy, and Kaggle.\n",
            "\n",
            "In conclusion, Data Science has the potential to revolutionize the way businesses operate and make decisions in the future. By harnessing the power of data, organizations can gain valuable insights, drive innovation, and create a competitive advantage. As the demand for data-driven insights continues to grow, the field of Data Science will only become more important and impactful in the years to come.\u001b[0m\n",
            "\n",
            "\u001b[1m> Finished chain.\u001b[0m\n",
            "In today's digital age, data has become one of the most valuable assets for businesses and organizations. The ability to collect, analyze, and interpret data has given rise to the field of Data Science, which plays a crucial role in driving decision-making and innovation across industries. In this blog post, we will explore the world of Data Science, its importance, key skills required, and how it is used in various sectors.\n",
            "\n",
            "Data Science is a multidisciplinary field that combines statistics, mathematics, computer science, and domain knowledge to extract meaningful insights from data. It involves the use of various tools and techniques to analyze large volumes of structured and unstructured data, and uncover patterns, trends, and relationships that can be used to make informed decisions.\n",
            "\n",
            "The importance of Data Science in today's world cannot be overstated. With the exponential growth of data being generated every day, organizations are increasingly relying on data-driven insights to gain a competitive edge, optimize operations, and deliver personalized experiences to customers. Data Science has revolutionized industries such as healthcare, finance, retail, and marketing, enabling businesses to improve efficiency, reduce costs, and drive innovation.\n",
            "\n",
            "Data scientists play a critical role in the field of Data Science. They are responsible for collecting, cleaning, and analyzing data, developing algorithms and models, and communicating insights to stakeholders. Key skills required for a career in Data Science include programming languages such as Python and R, statistical analysis, machine learning, data visualization, and domain expertise in a specific industry.\n",
            "\n",
            "Data Science is used in various industries to solve complex problems and drive business growth. In healthcare, Data Science is used to analyze patient data and develop predictive models for disease diagnosis and treatment. In finance, it is used for fraud detection, risk assessment, and algorithmic trading. In retail, Data Science is used for demand forecasting, customer segmentation, and personalized marketing campaigns.\n",
            "\n",
            "Despite the immense opportunities in the field of Data Science, there are also challenges that come with it. These include data privacy and security concerns, data quality issues, and the need for continuous learning and upskilling. However, with the right mindset and determination, aspiring data scientists can overcome these challenges and build a successful career in this rapidly growing field.\n",
            "\n",
            "For those looking to get started in Data Science, there are several tips to keep in mind. These include gaining hands-on experience through projects and internships, networking with professionals in the field, and continuously updating your skills and knowledge. There are also numerous online courses, bootcamps, and resources available for learning more about Data Science, such as Coursera, Udemy, and Kaggle.\n",
            "\n",
            "In conclusion, Data Science has the potential to revolutionize the way businesses operate and make decisions in the future. By harnessing the power of data, organizations can gain valuable insights, drive innovation, and create a competitive advantage. As the demand for data-driven insights continues to grow, the field of Data Science will only become more important and impactful in the years to come.\n"
          ]
        }
      ],
      "source": [
        "result = full_chain.run(\"Data Science\")\n",
        "print(result)"
      ]
    },
    {
      "cell_type": "code",
      "execution_count": null,
      "id": "c41b4952-b601-446c-83cf-49b7cdd9bab2",
      "metadata": {
        "id": "c41b4952-b601-446c-83cf-49b7cdd9bab2"
      },
      "outputs": [],
      "source": []
    }
  ],
  "metadata": {
    "kernelspec": {
      "display_name": "Python 3 (ipykernel)",
      "language": "python",
      "name": "python3"
    },
    "language_info": {
      "codemirror_mode": {
        "name": "ipython",
        "version": 3
      },
      "file_extension": ".py",
      "mimetype": "text/x-python",
      "name": "python",
      "nbconvert_exporter": "python",
      "pygments_lexer": "ipython3",
      "version": "3.9.12"
    },
    "colab": {
      "provenance": []
    }
  },
  "nbformat": 4,
  "nbformat_minor": 5
}