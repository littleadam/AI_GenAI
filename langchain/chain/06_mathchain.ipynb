{
  "cells": [
    {
      "cell_type": "markdown",
      "id": "728f1747-b8fc-4d31-96c2-047fc83c079d",
      "metadata": {
        "id": "728f1747-b8fc-4d31-96c2-047fc83c079d"
      },
      "source": [
        "# MathChain"
      ]
    },
    {
      "cell_type": "code",
      "execution_count": null,
      "id": "7a766d75-1aca-42f4-8d8d-b7de5a140600",
      "metadata": {
        "id": "7a766d75-1aca-42f4-8d8d-b7de5a140600",
        "outputId": "0260845c-fd2b-4b35-8c38-05add33b668d"
      },
      "outputs": [
        {
          "data": {
            "text/plain": [
              "34271896307633"
            ]
          },
          "execution_count": 44,
          "metadata": {},
          "output_type": "execute_result"
        }
      ],
      "source": [
        "eval('17**11')"
      ]
    },
    {
      "cell_type": "code",
      "execution_count": null,
      "id": "cd3d33fa-113b-41c1-870f-68d281fc2587",
      "metadata": {
        "id": "cd3d33fa-113b-41c1-870f-68d281fc2587"
      },
      "outputs": [],
      "source": [
        "from langchain.chat_models import ChatOpenAI\n",
        "from langchain.prompts import ChatPromptTemplate, HumanMessagePromptTemplate\n",
        "\n",
        "from langchain.schema import (\n",
        "    AIMessage,\n",
        "    HumanMessage,\n",
        "    SystemMessage\n",
        ")"
      ]
    },
    {
      "cell_type": "code",
      "execution_count": null,
      "id": "781c65fc-b139-43e0-95d3-714ad4220205",
      "metadata": {
        "id": "781c65fc-b139-43e0-95d3-714ad4220205"
      },
      "outputs": [],
      "source": [
        "model = ChatOpenAI()"
      ]
    },
    {
      "cell_type": "code",
      "execution_count": null,
      "id": "f3e75218-d45b-4329-a176-861734d03447",
      "metadata": {
        "id": "f3e75218-d45b-4329-a176-861734d03447",
        "outputId": "a4dc6c04-9c15-4e43-928c-47880f073cc8"
      },
      "outputs": [
        {
          "data": {
            "text/plain": [
              "'17 raised to the power of 11 is 28,456,456,576,000,000,000,000,000,000,000,000,000.'"
            ]
          },
          "execution_count": 46,
          "metadata": {},
          "output_type": "execute_result"
        }
      ],
      "source": [
        "result = model([HumanMessage(content=\"What is 17 raised to the power of 11?\")])\n",
        "result.content # UH OH!"
      ]
    },
    {
      "cell_type": "code",
      "execution_count": null,
      "id": "2831050d-0d17-4ba7-be5c-e269067c8fe1",
      "metadata": {
        "id": "2831050d-0d17-4ba7-be5c-e269067c8fe1",
        "outputId": "d6880125-65c5-488c-95a3-ca6f06c87159"
      },
      "outputs": [
        {
          "data": {
            "text/plain": [
              "'17 ** 11'"
            ]
          },
          "execution_count": 48,
          "metadata": {},
          "output_type": "execute_result"
        }
      ],
      "source": [
        "result = model([HumanMessage(content=\"Give me the Python formula that represents: What is 17 raised to the power of 11? Only reply with the formula, nothing else!\")])\n",
        "result.content # UH OH!"
      ]
    },
    {
      "cell_type": "code",
      "execution_count": null,
      "id": "43fa0e3a-7d2a-4f27-9a48-fc4fed306bb4",
      "metadata": {
        "id": "43fa0e3a-7d2a-4f27-9a48-fc4fed306bb4",
        "outputId": "cbe85e81-f425-48e7-aaa3-a8cd6a4a8a34"
      },
      "outputs": [
        {
          "data": {
            "text/plain": [
              "34271896307633"
            ]
          },
          "execution_count": 49,
          "metadata": {},
          "output_type": "execute_result"
        }
      ],
      "source": [
        "eval(result.content)"
      ]
    },
    {
      "cell_type": "markdown",
      "id": "4cfd180e-3fba-4839-93d6-317d708e2039",
      "metadata": {
        "id": "4cfd180e-3fba-4839-93d6-317d708e2039"
      },
      "source": [
        "### Easier Way!"
      ]
    },
    {
      "cell_type": "code",
      "execution_count": null,
      "id": "9b942aac-db7e-4a76-8a19-a887c1b5dd35",
      "metadata": {
        "id": "9b942aac-db7e-4a76-8a19-a887c1b5dd35"
      },
      "outputs": [],
      "source": [
        "from langchain import LLMMathChain"
      ]
    },
    {
      "cell_type": "code",
      "execution_count": null,
      "id": "cd2cffa5-ced1-4793-b1e7-0ed2047a06a0",
      "metadata": {
        "id": "cd2cffa5-ced1-4793-b1e7-0ed2047a06a0"
      },
      "outputs": [],
      "source": [
        "llm_math_model = LLMMathChain.from_llm(model)"
      ]
    },
    {
      "cell_type": "code",
      "execution_count": null,
      "id": "c57fd11b-f12b-41ce-af4a-a9e54136447d",
      "metadata": {
        "id": "c57fd11b-f12b-41ce-af4a-a9e54136447d",
        "outputId": "0a42fa0f-9064-4909-fbfb-0ad4252651e9"
      },
      "outputs": [
        {
          "data": {
            "text/plain": [
              "{'question': 'What is 17 raised to the power of 11?',\n",
              " 'answer': 'Answer: 34271896307633'}"
            ]
          },
          "execution_count": 52,
          "metadata": {},
          "output_type": "execute_result"
        }
      ],
      "source": [
        "llm_math_model(\"What is 17 raised to the power of 11?\")"
      ]
    },
    {
      "cell_type": "code",
      "execution_count": null,
      "id": "9afa5dec-46a2-42ae-bfef-841eb80a677f",
      "metadata": {
        "id": "9afa5dec-46a2-42ae-bfef-841eb80a677f"
      },
      "outputs": [],
      "source": []
    }
  ],
  "metadata": {
    "kernelspec": {
      "display_name": "Python 3 (ipykernel)",
      "language": "python",
      "name": "python3"
    },
    "language_info": {
      "codemirror_mode": {
        "name": "ipython",
        "version": 3
      },
      "file_extension": ".py",
      "mimetype": "text/x-python",
      "name": "python",
      "nbconvert_exporter": "python",
      "pygments_lexer": "ipython3",
      "version": "3.9.12"
    },
    "colab": {
      "provenance": []
    }
  },
  "nbformat": 4,
  "nbformat_minor": 5
}