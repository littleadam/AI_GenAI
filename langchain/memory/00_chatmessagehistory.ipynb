{
  "cells": [
    {
      "cell_type": "markdown",
      "id": "728f1747-b8fc-4d31-96c2-047fc83c079d",
      "metadata": {
        "id": "728f1747-b8fc-4d31-96c2-047fc83c079d"
      },
      "source": [
        "#  ChatMessageHistory"
      ]
    },
    {
      "cell_type": "code",
      "execution_count": null,
      "id": "244f42d8-2349-446e-a1c2-ae4b8d3ee38f",
      "metadata": {
        "id": "244f42d8-2349-446e-a1c2-ae4b8d3ee38f"
      },
      "outputs": [],
      "source": [
        "from langchain.memory import ChatMessageHistory\n",
        "\n",
        "history = ChatMessageHistory()\n",
        "\n",
        "history.add_user_message(\"Hello, nice to meet you.\")\n",
        "\n",
        "history.add_ai_message(\"Nice to meet you too!\")"
      ]
    },
    {
      "cell_type": "code",
      "execution_count": null,
      "id": "d11233ff-1364-417e-a669-a747b5a8f65f",
      "metadata": {
        "id": "d11233ff-1364-417e-a669-a747b5a8f65f",
        "outputId": "897af8dd-772a-4273-b15c-f8240f04a0b6"
      },
      "outputs": [
        {
          "data": {
            "text/plain": [
              "ChatMessageHistory(messages=[HumanMessage(content='Hello, nice to meet you.', additional_kwargs={}, example=False), AIMessage(content='Nice to meet you too!', additional_kwargs={}, example=False)])"
            ]
          },
          "execution_count": 2,
          "metadata": {},
          "output_type": "execute_result"
        }
      ],
      "source": [
        "history"
      ]
    },
    {
      "cell_type": "code",
      "execution_count": null,
      "id": "224f89d3-1e36-4fd6-9f7d-f64812a6fa03",
      "metadata": {
        "id": "224f89d3-1e36-4fd6-9f7d-f64812a6fa03",
        "outputId": "f23b7849-4052-4dd8-df1d-736789b668cb"
      },
      "outputs": [
        {
          "data": {
            "text/plain": [
              "[HumanMessage(content='Hello, nice to meet you.', additional_kwargs={}, example=False),\n",
              " AIMessage(content='Nice to meet you too!', additional_kwargs={}, example=False)]"
            ]
          },
          "execution_count": 3,
          "metadata": {},
          "output_type": "execute_result"
        }
      ],
      "source": [
        "history.messages"
      ]
    },
    {
      "cell_type": "code",
      "execution_count": null,
      "id": "9a236f07-a32a-4b8f-98b8-7e2ae882eb38",
      "metadata": {
        "id": "9a236f07-a32a-4b8f-98b8-7e2ae882eb38"
      },
      "outputs": [],
      "source": []
    }
  ],
  "metadata": {
    "kernelspec": {
      "display_name": "Python 3 (ipykernel)",
      "language": "python",
      "name": "python3"
    },
    "language_info": {
      "codemirror_mode": {
        "name": "ipython",
        "version": 3
      },
      "file_extension": ".py",
      "mimetype": "text/x-python",
      "name": "python",
      "nbconvert_exporter": "python",
      "pygments_lexer": "ipython3",
      "version": "3.9.12"
    },
    "colab": {
      "provenance": []
    }
  },
  "nbformat": 4,
  "nbformat_minor": 5
}