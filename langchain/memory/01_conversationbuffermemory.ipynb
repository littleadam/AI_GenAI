{
  "cells": [
    {
      "cell_type": "markdown",
      "id": "728f1747-b8fc-4d31-96c2-047fc83c079d",
      "metadata": {
        "id": "728f1747-b8fc-4d31-96c2-047fc83c079d"
      },
      "source": [
        "#  ConversationBufferMemory"
      ]
    },
    {
      "cell_type": "code",
      "execution_count": null,
      "id": "261e60bc-9653-4acf-91fe-d088f49d494a",
      "metadata": {
        "id": "261e60bc-9653-4acf-91fe-d088f49d494a"
      },
      "outputs": [],
      "source": [
        "from langchain.chat_models import ChatOpenAI\n",
        "from langchain.chains import ConversationChain\n",
        "from langchain.memory import ConversationBufferMemory"
      ]
    },
    {
      "cell_type": "code",
      "execution_count": null,
      "id": "4c741139-a54e-46c9-af29-2ba64f914f15",
      "metadata": {
        "id": "4c741139-a54e-46c9-af29-2ba64f914f15"
      },
      "outputs": [],
      "source": [
        "llm = ChatOpenAI(temperature=0.0)\n",
        "memory = ConversationBufferMemory()"
      ]
    },
    {
      "cell_type": "markdown",
      "id": "bea4a9b5-e52c-44a1-a8c2-6d1c3eed2f1a",
      "metadata": {
        "id": "bea4a9b5-e52c-44a1-a8c2-6d1c3eed2f1a"
      },
      "source": [
        "## Connect Conversation to Memory"
      ]
    },
    {
      "cell_type": "code",
      "execution_count": null,
      "id": "ad3336a7-d2ff-4c7d-bd28-f55f45367608",
      "metadata": {
        "id": "ad3336a7-d2ff-4c7d-bd28-f55f45367608"
      },
      "outputs": [],
      "source": [
        "conversation = ConversationChain(\n",
        "    llm=llm,\n",
        "    memory = memory,\n",
        "    verbose=True\n",
        ")"
      ]
    },
    {
      "cell_type": "code",
      "execution_count": null,
      "id": "c3443ca2-3ce9-4d4e-9775-c634e8b36832",
      "metadata": {
        "id": "c3443ca2-3ce9-4d4e-9775-c634e8b36832",
        "outputId": "b23fd6ab-da5b-472d-a887-689c8ae33cd6"
      },
      "outputs": [
        {
          "name": "stdout",
          "output_type": "stream",
          "text": [
            "\n",
            "\n",
            "\u001b[1m> Entering new  chain...\u001b[0m\n",
            "Prompt after formatting:\n",
            "\u001b[32;1m\u001b[1;3mThe following is a friendly conversation between a human and an AI. The AI is talkative and provides lots of specific details from its context. If the AI does not know the answer to a question, it truthfully says it does not know.\n",
            "\n",
            "Current conversation:\n",
            "\n",
            "Human: Hello, nice to meet you!\n",
            "AI:\u001b[0m\n",
            "\n",
            "\u001b[1m> Finished chain.\u001b[0m\n"
          ]
        },
        {
          "data": {
            "text/plain": [
              "\"Hello! Nice to meet you too! I'm an AI trained to have conversations and provide information. How can I assist you today?\""
            ]
          },
          "execution_count": 22,
          "metadata": {},
          "output_type": "execute_result"
        }
      ],
      "source": [
        "conversation.predict(input=\"Hello, nice to meet you!\")"
      ]
    },
    {
      "cell_type": "code",
      "execution_count": null,
      "id": "0f9c4c74-a8fc-4a75-9ddc-0b6a8412e364",
      "metadata": {
        "id": "0f9c4c74-a8fc-4a75-9ddc-0b6a8412e364",
        "outputId": "c95e438f-635a-4b36-a297-9681de9babe8"
      },
      "outputs": [
        {
          "name": "stdout",
          "output_type": "stream",
          "text": [
            "\n",
            "\n",
            "\u001b[1m> Entering new  chain...\u001b[0m\n",
            "Prompt after formatting:\n",
            "\u001b[32;1m\u001b[1;3mThe following is a friendly conversation between a human and an AI. The AI is talkative and provides lots of specific details from its context. If the AI does not know the answer to a question, it truthfully says it does not know.\n",
            "\n",
            "Current conversation:\n",
            "Human: Hello, nice to meet you!\n",
            "AI: Hello! Nice to meet you too! I'm an AI trained to have conversations and provide information. How can I assist you today?\n",
            "Human: Tell me about the Einstein-Szilard Letter \n",
            "AI:\u001b[0m\n",
            "\n",
            "\u001b[1m> Finished chain.\u001b[0m\n"
          ]
        },
        {
          "data": {
            "text/plain": [
              "'The Einstein-Szilard Letter, also known as the Einstein-Szilard Petition, was a letter written by physicist Albert Einstein and his colleague Leo Szilard. It was sent to President Franklin D. Roosevelt on August 2, 1939, during the early stages of World War II. The letter warned Roosevelt about the potential development of atomic weapons by Nazi Germany and urged the United States to begin its own research into nuclear technology.\\n\\nIn the letter, Einstein and Szilard explained the scientific principles behind nuclear fission and the possibility of creating a chain reaction that could release a tremendous amount of energy. They emphasized the importance of the United States taking the lead in nuclear research to prevent Germany from gaining a significant advantage in weapon development.\\n\\nThe Einstein-Szilard Letter played a crucial role in the establishment of the Manhattan Project, a top-secret research program that ultimately led to the development of the atomic bomb. It helped to convince Roosevelt of the urgency and necessity of pursuing atomic research, leading to the allocation of significant resources towards the project.\\n\\nThe letter is considered a significant historical document as it highlights the ethical and moral dilemmas associated with the development and use of nuclear weapons. It also showcases the role of scientists in shaping world events and the potential consequences of their discoveries.'"
            ]
          },
          "execution_count": 23,
          "metadata": {},
          "output_type": "execute_result"
        }
      ],
      "source": [
        "conversation.predict(input=\"Tell me about the Einstein-Szilard Letter \")"
      ]
    },
    {
      "cell_type": "code",
      "execution_count": null,
      "id": "dce17805-aa75-4f56-832b-12272b389210",
      "metadata": {
        "id": "dce17805-aa75-4f56-832b-12272b389210",
        "outputId": "dc3835c6-be7b-4da5-b39c-1fd4b80ec16c"
      },
      "outputs": [
        {
          "name": "stdout",
          "output_type": "stream",
          "text": [
            "Human: Hello, nice to meet you!\n",
            "AI: Hello! Nice to meet you too! I'm an AI trained to have conversations and provide information. How can I assist you today?\n",
            "Human: Tell me about the Einstein-Szilard Letter \n",
            "AI: The Einstein-Szilard Letter, also known as the Einstein-Szilard Petition, was a letter written by physicist Albert Einstein and his colleague Leo Szilard. It was sent to President Franklin D. Roosevelt on August 2, 1939, during the early stages of World War II. The letter warned Roosevelt about the potential development of atomic weapons by Nazi Germany and urged the United States to begin its own research into nuclear technology.\n",
            "\n",
            "In the letter, Einstein and Szilard explained the scientific principles behind nuclear fission and the possibility of creating a chain reaction that could release a tremendous amount of energy. They emphasized the importance of the United States taking the lead in nuclear research to prevent Germany from gaining a significant advantage in weapon development.\n",
            "\n",
            "The Einstein-Szilard Letter played a crucial role in the establishment of the Manhattan Project, a top-secret research program that ultimately led to the development of the atomic bomb. It helped to convince Roosevelt of the urgency and necessity of pursuing atomic research, leading to the allocation of significant resources towards the project.\n",
            "\n",
            "The letter is considered a significant historical document as it highlights the ethical and moral dilemmas associated with the development and use of nuclear weapons. It also showcases the role of scientists in shaping world events and the potential consequences of their discoveries.\n"
          ]
        }
      ],
      "source": [
        "print(memory.buffer)"
      ]
    },
    {
      "cell_type": "code",
      "execution_count": null,
      "id": "06bfdc45-81d0-481b-84fa-5cf7848194a4",
      "metadata": {
        "id": "06bfdc45-81d0-481b-84fa-5cf7848194a4",
        "outputId": "730a84f8-6f00-4448-cf79-cfeaecd2aba6"
      },
      "outputs": [
        {
          "data": {
            "text/plain": [
              "{'history': \"Human: Hello, nice to meet you!\\nAI: Hello! Nice to meet you too! I'm an AI trained to have conversations and provide information. How can I assist you today?\\nHuman: Tell me about the Einstein-Szilard Letter \\nAI: The Einstein-Szilard Letter, also known as the Einstein-Szilard Petition, was a letter written by physicist Albert Einstein and his colleague Leo Szilard. It was sent to President Franklin D. Roosevelt on August 2, 1939, during the early stages of World War II. The letter warned Roosevelt about the potential development of atomic weapons by Nazi Germany and urged the United States to begin its own research into nuclear technology.\\n\\nIn the letter, Einstein and Szilard explained the scientific principles behind nuclear fission and the possibility of creating a chain reaction that could release a tremendous amount of energy. They emphasized the importance of the United States taking the lead in nuclear research to prevent Germany from gaining a significant advantage in weapon development.\\n\\nThe Einstein-Szilard Letter played a crucial role in the establishment of the Manhattan Project, a top-secret research program that ultimately led to the development of the atomic bomb. It helped to convince Roosevelt of the urgency and necessity of pursuing atomic research, leading to the allocation of significant resources towards the project.\\n\\nThe letter is considered a significant historical document as it highlights the ethical and moral dilemmas associated with the development and use of nuclear weapons. It also showcases the role of scientists in shaping world events and the potential consequences of their discoveries.\"}"
            ]
          },
          "execution_count": 25,
          "metadata": {},
          "output_type": "execute_result"
        }
      ],
      "source": [
        "memory.load_memory_variables({})"
      ]
    },
    {
      "cell_type": "code",
      "execution_count": null,
      "id": "da9fe5b3-1b52-4611-bf67-ee81a251053f",
      "metadata": {
        "id": "da9fe5b3-1b52-4611-bf67-ee81a251053f"
      },
      "outputs": [],
      "source": [
        "memory.save_context({\"input\": \"Very Interesting.\"},\n",
        "                    {\"output\": \"Yes, it was my pleasure as an AI to answer.\"})"
      ]
    },
    {
      "cell_type": "code",
      "execution_count": null,
      "id": "228792b0-afd2-46c3-bb5d-c3ed48fec31b",
      "metadata": {
        "id": "228792b0-afd2-46c3-bb5d-c3ed48fec31b",
        "outputId": "8347eed6-c46f-4e31-90c5-7054445f975c"
      },
      "outputs": [
        {
          "data": {
            "text/plain": [
              "{'history': \"Human: Hello, nice to meet you!\\nAI: Hello! Nice to meet you too! I'm an AI trained to have conversations and provide information. How can I assist you today?\\nHuman: Tell me about the Einstein-Szilard Letter \\nAI: The Einstein-Szilard Letter, also known as the Einstein-Szilard Petition, was a letter written by physicist Albert Einstein and his colleague Leo Szilard. It was sent to President Franklin D. Roosevelt on August 2, 1939, during the early stages of World War II. The letter warned Roosevelt about the potential development of atomic weapons by Nazi Germany and urged the United States to begin its own research into nuclear technology.\\n\\nIn the letter, Einstein and Szilard explained the scientific principles behind nuclear fission and the possibility of creating a chain reaction that could release a tremendous amount of energy. They emphasized the importance of the United States taking the lead in nuclear research to prevent Germany from gaining a significant advantage in weapon development.\\n\\nThe Einstein-Szilard Letter played a crucial role in the establishment of the Manhattan Project, a top-secret research program that ultimately led to the development of the atomic bomb. It helped to convince Roosevelt of the urgency and necessity of pursuing atomic research, leading to the allocation of significant resources towards the project.\\n\\nThe letter is considered a significant historical document as it highlights the ethical and moral dilemmas associated with the development and use of nuclear weapons. It also showcases the role of scientists in shaping world events and the potential consequences of their discoveries.\\nHuman: Very Interesting.\\nAI: Yes, it was my pleasure as an AI to answer.\"}"
            ]
          },
          "execution_count": 27,
          "metadata": {},
          "output_type": "execute_result"
        }
      ],
      "source": [
        "memory.load_memory_variables({})"
      ]
    },
    {
      "cell_type": "markdown",
      "id": "651ba6fb-40c6-4d2c-ac55-3bc9607336a9",
      "metadata": {
        "id": "651ba6fb-40c6-4d2c-ac55-3bc9607336a9"
      },
      "source": [
        "## Saving and Loading Memory\n",
        "\n",
        "Best Source We've Found: https://stackoverflow.com/questions/75965605/how-to-persist-langchain-conversation-memory-save-and-load"
      ]
    },
    {
      "cell_type": "code",
      "execution_count": null,
      "id": "57435326-a46b-475c-a093-055b55f7ab1b",
      "metadata": {
        "id": "57435326-a46b-475c-a093-055b55f7ab1b",
        "outputId": "7cb39815-ae38-4746-c6b0-74f05d962eac"
      },
      "outputs": [
        {
          "data": {
            "text/plain": [
              "ConversationBufferMemory(chat_memory=ChatMessageHistory(messages=[HumanMessage(content='Hello, nice to meet you!', additional_kwargs={}, example=False), AIMessage(content=\"Hello! Nice to meet you too! I'm an AI trained to have conversations and provide information. How can I assist you today?\", additional_kwargs={}, example=False), HumanMessage(content='Tell me about the Einstein-Szilard Letter ', additional_kwargs={}, example=False), AIMessage(content='The Einstein-Szilard Letter, also known as the Einstein-Szilard Petition, was a letter written by physicist Albert Einstein and his colleague Leo Szilard. It was sent to President Franklin D. Roosevelt on August 2, 1939, during the early stages of World War II. The letter warned Roosevelt about the potential development of atomic weapons by Nazi Germany and urged the United States to begin its own research into nuclear technology.\\n\\nIn the letter, Einstein and Szilard explained the scientific principles behind nuclear fission and the possibility of creating a chain reaction that could release a tremendous amount of energy. They emphasized the importance of the United States taking the lead in nuclear research to prevent Germany from gaining a significant advantage in weapon development.\\n\\nThe Einstein-Szilard Letter played a crucial role in the establishment of the Manhattan Project, a top-secret research program that ultimately led to the development of the atomic bomb. It helped to convince Roosevelt of the urgency and necessity of pursuing atomic research, leading to the allocation of significant resources towards the project.\\n\\nThe letter is considered a significant historical document as it highlights the ethical and moral dilemmas associated with the development and use of nuclear weapons. It also showcases the role of scientists in shaping world events and the potential consequences of their discoveries.', additional_kwargs={}, example=False), HumanMessage(content='Very Interesting.', additional_kwargs={}, example=False), AIMessage(content='Yes, it was my pleasure as an AI to answer.', additional_kwargs={}, example=False)]), output_key=None, input_key=None, return_messages=False, human_prefix='Human', ai_prefix='AI', memory_key='history')"
            ]
          },
          "execution_count": 28,
          "metadata": {},
          "output_type": "execute_result"
        }
      ],
      "source": [
        "conversation.memory"
      ]
    },
    {
      "cell_type": "code",
      "execution_count": null,
      "id": "b445e294-ad7d-4f88-8b84-ec9c6bc0a2ad",
      "metadata": {
        "id": "b445e294-ad7d-4f88-8b84-ec9c6bc0a2ad"
      },
      "outputs": [],
      "source": [
        "import pickle\n",
        "pickled_str = pickle.dumps(conversation.memory)"
      ]
    },
    {
      "cell_type": "code",
      "execution_count": null,
      "id": "822da352-0974-4b51-92fe-78a26fd6c95e",
      "metadata": {
        "id": "822da352-0974-4b51-92fe-78a26fd6c95e"
      },
      "outputs": [],
      "source": [
        "# pickled_str"
      ]
    },
    {
      "cell_type": "code",
      "execution_count": null,
      "id": "4b582b43-d25e-460e-8fbe-a887b7b3f6ad",
      "metadata": {
        "id": "4b582b43-d25e-460e-8fbe-a887b7b3f6ad"
      },
      "outputs": [],
      "source": [
        "with open('memory.pkl','wb') as f:\n",
        "    f.write(pickled_str)"
      ]
    },
    {
      "cell_type": "code",
      "execution_count": null,
      "id": "04a5fa1d-acda-44e9-af3f-3129fc4bd32e",
      "metadata": {
        "id": "04a5fa1d-acda-44e9-af3f-3129fc4bd32e"
      },
      "outputs": [],
      "source": [
        "new_memory_load = open('memory.pkl','rb').read()"
      ]
    },
    {
      "cell_type": "code",
      "execution_count": null,
      "id": "3ea3712f-cadf-4895-92cb-29372018dc37",
      "metadata": {
        "id": "3ea3712f-cadf-4895-92cb-29372018dc37"
      },
      "outputs": [],
      "source": [
        "llm = ChatOpenAI(temperature=0.0)\n",
        "reload_conversation = ConversationChain(\n",
        "    llm=llm,\n",
        "    memory = pickle.loads(new_memory_load),\n",
        "    verbose=True\n",
        ")"
      ]
    },
    {
      "cell_type": "code",
      "execution_count": null,
      "id": "3da74453-2dff-411d-a384-2966ae0c1f06",
      "metadata": {
        "id": "3da74453-2dff-411d-a384-2966ae0c1f06",
        "outputId": "e5eeaff4-96fd-46e1-b172-89d8899c19cf"
      },
      "outputs": [
        {
          "data": {
            "text/plain": [
              "\"Human: Hello, nice to meet you!\\nAI: Hello! Nice to meet you too! I'm an AI trained to have conversations and provide information. How can I assist you today?\\nHuman: Tell me about the Einstein-Szilard Letter \\nAI: The Einstein-Szilard Letter, also known as the Einstein-Szilard Petition, was a letter written by physicist Albert Einstein and his colleague Leo Szilard. It was sent to President Franklin D. Roosevelt on August 2, 1939, during the early stages of World War II. The letter warned Roosevelt about the potential development of atomic weapons by Nazi Germany and urged the United States to begin its own research into nuclear technology.\\n\\nIn the letter, Einstein and Szilard explained the scientific principles behind nuclear fission and the possibility of creating a chain reaction that could release a tremendous amount of energy. They emphasized the importance of the United States taking the lead in nuclear research to prevent Germany from gaining a significant advantage in weapon development.\\n\\nThe Einstein-Szilard Letter played a crucial role in the establishment of the Manhattan Project, a top-secret research program that ultimately led to the development of the atomic bomb. It helped to convince Roosevelt of the urgency and necessity of pursuing atomic research, leading to the allocation of significant resources towards the project.\\n\\nThe letter is considered a significant historical document as it highlights the ethical and moral dilemmas associated with the development and use of nuclear weapons. It also showcases the role of scientists in shaping world events and the potential consequences of their discoveries.\\nHuman: Very Interesting.\\nAI: Yes, it was my pleasure as an AI to answer.\""
            ]
          },
          "execution_count": 39,
          "metadata": {},
          "output_type": "execute_result"
        }
      ],
      "source": [
        "reload_conversation.memory.buffer"
      ]
    },
    {
      "cell_type": "code",
      "execution_count": null,
      "id": "1b872f82-2e8a-4c5e-b715-2c927ffdefdd",
      "metadata": {
        "id": "1b872f82-2e8a-4c5e-b715-2c927ffdefdd"
      },
      "outputs": [],
      "source": []
    }
  ],
  "metadata": {
    "kernelspec": {
      "display_name": "Python 3 (ipykernel)",
      "language": "python",
      "name": "python3"
    },
    "language_info": {
      "codemirror_mode": {
        "name": "ipython",
        "version": 3
      },
      "file_extension": ".py",
      "mimetype": "text/x-python",
      "name": "python",
      "nbconvert_exporter": "python",
      "pygments_lexer": "ipython3",
      "version": "3.9.12"
    },
    "colab": {
      "provenance": []
    }
  },
  "nbformat": 4,
  "nbformat_minor": 5
}