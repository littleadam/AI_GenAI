{
  "cells": [
    {
      "cell_type": "code",
      "execution_count": null,
      "metadata": {
        "colab": {
          "base_uri": "https://localhost:8080/"
        },
        "id": "Thmejjb46VJV",
        "outputId": "0d23cda6-c07f-49fd-e589-452885609bc2"
      },
      "outputs": [
        {
          "name": "stdout",
          "output_type": "stream",
          "text": [
            "Requirement already satisfied: google-generativeai in /usr/local/lib/python3.10/dist-packages (0.3.2)\n",
            "Requirement already satisfied: grpcio in /usr/local/lib/python3.10/dist-packages (1.60.1)\n",
            "Collecting grpcio-tools\n",
            "  Downloading grpcio_tools-1.60.1-cp310-cp310-manylinux_2_17_x86_64.manylinux2014_x86_64.whl (2.8 MB)\n",
            "\u001b[2K     \u001b[90m━━━━━━━━━━━━━━━━━━━━━━━━━━━━━━━━━━━━━━━━\u001b[0m \u001b[32m2.8/2.8 MB\u001b[0m \u001b[31m10.8 MB/s\u001b[0m eta \u001b[36m0:00:00\u001b[0m\n",
            "\u001b[?25hRequirement already satisfied: google-ai-generativelanguage==0.4.0 in /usr/local/lib/python3.10/dist-packages (from google-generativeai) (0.4.0)\n",
            "Requirement already satisfied: google-auth in /usr/local/lib/python3.10/dist-packages (from google-generativeai) (2.17.3)\n",
            "Requirement already satisfied: google-api-core in /usr/local/lib/python3.10/dist-packages (from google-generativeai) (2.11.1)\n",
            "Requirement already satisfied: typing-extensions in /usr/local/lib/python3.10/dist-packages (from google-generativeai) (4.9.0)\n",
            "Requirement already satisfied: protobuf in /usr/local/lib/python3.10/dist-packages (from google-generativeai) (3.20.3)\n",
            "Requirement already satisfied: tqdm in /usr/local/lib/python3.10/dist-packages (from google-generativeai) (4.66.1)\n",
            "Requirement already satisfied: proto-plus<2.0.0dev,>=1.22.3 in /usr/local/lib/python3.10/dist-packages (from google-ai-generativelanguage==0.4.0->google-generativeai) (1.23.0)\n",
            "Collecting protobuf (from google-generativeai)\n",
            "  Downloading protobuf-4.25.2-cp37-abi3-manylinux2014_x86_64.whl (294 kB)\n",
            "\u001b[2K     \u001b[90m━━━━━━━━━━━━━━━━━━━━━━━━━━━━━━━━━━━━━━━━\u001b[0m \u001b[32m294.6/294.6 kB\u001b[0m \u001b[31m34.9 MB/s\u001b[0m eta \u001b[36m0:00:00\u001b[0m\n",
            "\u001b[?25hRequirement already satisfied: setuptools in /usr/local/lib/python3.10/dist-packages (from grpcio-tools) (67.7.2)\n",
            "Requirement already satisfied: googleapis-common-protos<2.0.dev0,>=1.56.2 in /usr/local/lib/python3.10/dist-packages (from google-api-core->google-generativeai) (1.62.0)\n",
            "Requirement already satisfied: requests<3.0.0.dev0,>=2.18.0 in /usr/local/lib/python3.10/dist-packages (from google-api-core->google-generativeai) (2.31.0)\n",
            "Requirement already satisfied: cachetools<6.0,>=2.0.0 in /usr/local/lib/python3.10/dist-packages (from google-auth->google-generativeai) (5.3.2)\n",
            "Requirement already satisfied: pyasn1-modules>=0.2.1 in /usr/local/lib/python3.10/dist-packages (from google-auth->google-generativeai) (0.3.0)\n",
            "Requirement already satisfied: six>=1.9.0 in /usr/local/lib/python3.10/dist-packages (from google-auth->google-generativeai) (1.16.0)\n",
            "Requirement already satisfied: rsa<5,>=3.1.4 in /usr/local/lib/python3.10/dist-packages (from google-auth->google-generativeai) (4.9)\n",
            "Requirement already satisfied: grpcio-status<2.0.dev0,>=1.33.2 in /usr/local/lib/python3.10/dist-packages (from google-api-core->google-generativeai) (1.48.2)\n",
            "Requirement already satisfied: pyasn1<0.6.0,>=0.4.6 in /usr/local/lib/python3.10/dist-packages (from pyasn1-modules>=0.2.1->google-auth->google-generativeai) (0.5.1)\n",
            "Requirement already satisfied: charset-normalizer<4,>=2 in /usr/local/lib/python3.10/dist-packages (from requests<3.0.0.dev0,>=2.18.0->google-api-core->google-generativeai) (3.3.2)\n",
            "Requirement already satisfied: idna<4,>=2.5 in /usr/local/lib/python3.10/dist-packages (from requests<3.0.0.dev0,>=2.18.0->google-api-core->google-generativeai) (3.6)\n",
            "Requirement already satisfied: urllib3<3,>=1.21.1 in /usr/local/lib/python3.10/dist-packages (from requests<3.0.0.dev0,>=2.18.0->google-api-core->google-generativeai) (2.0.7)\n",
            "Requirement already satisfied: certifi>=2017.4.17 in /usr/local/lib/python3.10/dist-packages (from requests<3.0.0.dev0,>=2.18.0->google-api-core->google-generativeai) (2024.2.2)\n",
            "Installing collected packages: protobuf, grpcio-tools\n",
            "  Attempting uninstall: protobuf\n",
            "    Found existing installation: protobuf 3.20.3\n",
            "    Uninstalling protobuf-3.20.3:\n",
            "      Successfully uninstalled protobuf-3.20.3\n",
            "\u001b[31mERROR: pip's dependency resolver does not currently take into account all the packages that are installed. This behaviour is the source of the following dependency conflicts.\n",
            "tensorboard 2.15.1 requires protobuf<4.24,>=3.19.6, but you have protobuf 4.25.2 which is incompatible.\n",
            "tensorflow-metadata 1.14.0 requires protobuf<4.21,>=3.20.3, but you have protobuf 4.25.2 which is incompatible.\u001b[0m\u001b[31m\n",
            "\u001b[0mSuccessfully installed grpcio-tools-1.60.1 protobuf-4.25.2\n"
          ]
        }
      ],
      "source": [
        "# Install necessary libraries\n",
        "!pip install google-generativeai grpcio grpcio-tools"
      ]
    },
    {
      "cell_type": "code",
      "execution_count": null,
      "metadata": {
        "colab": {
          "base_uri": "https://localhost:8080/",
          "height": 885
        },
        "id": "AHobktOV6aYU",
        "outputId": "b80ad5d1-b526-46cb-e550-428c3aacca85"
      },
      "outputs": [
        {
          "name": "stdout",
          "output_type": "stream",
          "text": [
            "1. **Eudaimonia:**\n",
            "\n",
            "- Ancient Greek concept often translated as \"happiness,\" \"well-being,\" or \"flourishing.\"\n",
            "- Aristotle believed the goal of life is achieve eudaimonia, which involves living in accordance with virtue and reason.\n",
            "- It is not about pleasure or material possessions, but about living a life of purpose and meaning.\n",
            "\n",
            "2. **Hedonism:**\n",
            "\n",
            "- The pursuit of pleasure and the avoidance of pain as the highest good.\n",
            "- Some hedonists believe that the meaning of life is to maximize one's own pleasure, while others believe that it is to maximize the pleasure of all beings.\n",
            "\n",
            "3. **Existentialism:**\n",
            "\n",
            "- Emphasizes the importance of individual existence, freedom, and choice.\n",
            "- Existentialists believe that the meaning of life is to create one's own meaning through their actions and choices.\n",
            "\n",
            "4. **Humanism:**\n",
            "\n",
            "- Focuses on the value and potential of human beings.\n",
            "- Humanists believe that the meaning of life is to live a good and fulfilling life, and to make a positive contribution to society.\n",
            "\n",
            "5. **Religion:**\n",
            "\n",
            "- Many religions offer answers to the question of the meaning of life, often involving a relationship with a higher power or a divine being.\n",
            "- Different religions may have different interpretations of what constitutes a meaningful life.\n",
            "\n",
            "6. **Personal Growth:**\n",
            "\n",
            "- The pursuit of personal growth and development as the ultimate goal.\n",
            "- This can involve learning new skills, expanding one's knowledge, or working on oneself to become a better person.\n",
            "\n",
            "7. **Legacy:**\n",
            "\n",
            "- The desire to leave a lasting impact on the world, either through one's work, relationships, or contributions to society.\n",
            "- Some people find meaning in knowing that their life made a difference, even after they are gone.\n",
            "\n",
            "8. **Love and Connection:**\n",
            "\n",
            "- The pursuit of love, connection, and relationships with others as the ultimate goal.\n",
            "- Many people find meaning and fulfillment in their relationships with family, friends, and loved ones.\n",
            "\n",
            "9. **Purpose-Driven Life:**\n",
            "\n",
            "- The belief that life has a specific purpose or mission that one is meant to fulfill.\n",
            "- This purpose may be related to one's career, relationships, or contribution to society.\n",
            "\n",
            "10. **Happiness:**\n",
            "\n",
            "- The pursuit of happiness and well-being as the ultimate goal.\n",
            "- While happiness is often considered a subjective and elusive concept, many people believe that it is the ultimate aim of life.\n"
          ]
        }
      ],
      "source": [
        "# importing google.generativeai as genai\n",
        "import google.generativeai as genai\n",
        "\n",
        "# setting the api key\n",
        "genai.configure(api_key=\"\")\n",
        "\n",
        "# setting the text model\n",
        "model = genai.GenerativeModel('gemini-pro')\n",
        "\n",
        "# generating response\n",
        "response = model.generate_content(\"What is the meaning of life?\")\n",
        "\n",
        "# printing the response\n",
        "print(response.text)\n",
        "\n",
        "########### OUTPUT ###########\n",
        "#he query of life purpose has perplexed people\n",
        "#across centuries ...\n",
        "########### OUTPUT ###########"
      ]
    }
  ],
  "metadata": {
    "colab": {
      "provenance": []
    },
    "kernelspec": {
      "display_name": "Python 3 (ipykernel)",
      "language": "python",
      "name": "python3"
    },
    "language_info": {
      "codemirror_mode": {
        "name": "ipython",
        "version": 3
      },
      "file_extension": ".py",
      "mimetype": "text/x-python",
      "name": "python",
      "nbconvert_exporter": "python",
      "pygments_lexer": "ipython3",
      "version": "3.10.13"
    }
  },
  "nbformat": 4,
  "nbformat_minor": 0
}