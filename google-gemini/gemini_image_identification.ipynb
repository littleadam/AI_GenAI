{
  "cells": [
    {
      "cell_type": "code",
      "execution_count": null,
      "metadata": {
        "colab": {
          "base_uri": "https://localhost:8080/",
          "height": 52
        },
        "id": "q7cLjQxy-ygc",
        "outputId": "35c65c30-0531-4e9d-c1c0-357f833124f8"
      },
      "outputs": [
        {
          "name": "stdout",
          "output_type": "stream",
          "text": [
            " Yes, there is a Golden Retriever puppy in this image.\n",
            " The animal in the picture is a golden retriever puppy.\n"
          ]
        }
      ],
      "source": [
        "# importing google.generativeai as genai\n",
        "import google.generativeai as genai\n",
        "\n",
        "# setting the api key\n",
        "genai.configure(api_key=\"\")\n",
        "\n",
        "# setting the text model\n",
        "model = genai.GenerativeModel('gemini-pro-vision')\n",
        "\n",
        "# loading Image\n",
        "import PIL.Image\n",
        "img = PIL.Image.open('/content/sample_data/Dog_Breeds.jpg')\n",
        "\n",
        "# chating with image\n",
        "responseone =  model.generate_content([img, \"Is there a dog in this image?\"])\n",
        "responsetwo =  model.generate_content([img, \"What is this animal?\"])\n",
        "\n",
        "\n",
        "# printing the response\n",
        "print(responseone.text)\n",
        "print(responsetwo.text)"
      ]
    },
    {
      "cell_type": "code",
      "execution_count": null,
      "metadata": {
        "colab": {
          "base_uri": "https://localhost:8080/",
          "height": 208
        },
        "id": "7QtLuEYECuZS",
        "outputId": "9d901d5d-9aac-44dd-b963-2060ef281d30"
      },
      "outputs": [
        {
          "data": {
            "text/plain": [
              "Model(name='models/gemini-pro-vision',\n",
              "      base_model_id='',\n",
              "      version='001',\n",
              "      display_name='Gemini Pro Vision',\n",
              "      description='The best image understanding model to handle a broad range of applications',\n",
              "      input_token_limit=12288,\n",
              "      output_token_limit=4096,\n",
              "      supported_generation_methods=['generateContent', 'countTokens'],\n",
              "      temperature=0.4,\n",
              "      top_p=1.0,\n",
              "      top_k=32)"
            ]
          },
          "execution_count": 7,
          "metadata": {},
          "output_type": "execute_result"
        }
      ],
      "source": [
        "genai.get_model(model.model_name)"
      ]
    },
    {
      "cell_type": "code",
      "execution_count": null,
      "metadata": {
        "colab": {
          "base_uri": "https://localhost:8080/",
          "height": 36
        },
        "id": "U0SFg0WKMwHC",
        "outputId": "28dfc3c5-7f91-43bf-963e-ae7cb82aa9cb"
      },
      "outputs": [
        {
          "data": {
            "application/vnd.google.colaboratory.intrinsic+json": {
              "type": "string"
            },
            "text/plain": [
              "'models/gemini-pro-vision'"
            ]
          },
          "execution_count": 12,
          "metadata": {},
          "output_type": "execute_result"
        }
      ],
      "source": [
        "model.model_name"
      ]
    }
  ],
  "metadata": {
    "colab": {
      "provenance": []
    },
    "kernelspec": {
      "display_name": "Python 3 (ipykernel)",
      "language": "python",
      "name": "python3"
    },
    "language_info": {
      "codemirror_mode": {
        "name": "ipython",
        "version": 3
      },
      "file_extension": ".py",
      "mimetype": "text/x-python",
      "name": "python",
      "nbconvert_exporter": "python",
      "pygments_lexer": "ipython3",
      "version": "3.10.13"
    }
  },
  "nbformat": 4,
  "nbformat_minor": 0
}