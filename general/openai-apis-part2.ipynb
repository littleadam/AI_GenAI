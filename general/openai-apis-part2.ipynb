{
  "cells": [
    {
      "cell_type": "markdown",
      "id": "4c5eee6c",
      "metadata": {
        "id": "4c5eee6c"
      },
      "source": [
        "# Step by step driving directions"
      ]
    },
    {
      "cell_type": "code",
      "execution_count": null,
      "id": "72159cd5",
      "metadata": {
        "id": "72159cd5",
        "outputId": "146969e5-f4f0-4a64-d1d8-47aa8f13a1ab"
      },
      "outputs": [
        {
          "name": "stdout",
          "output_type": "stream",
          "text": [
            "Collecting openai==0.28\n",
            "  Downloading openai-0.28.0-py3-none-any.whl.metadata (13 kB)\n",
            "Requirement already satisfied: requests>=2.20 in c:\\users\\karth\\anaconda3\\lib\\site-packages (from openai==0.28) (2.31.0)\n",
            "Requirement already satisfied: tqdm in c:\\users\\karth\\anaconda3\\lib\\site-packages (from openai==0.28) (4.66.1)\n",
            "Requirement already satisfied: aiohttp in c:\\users\\karth\\anaconda3\\lib\\site-packages (from openai==0.28) (3.8.6)\n",
            "Requirement already satisfied: charset-normalizer<4,>=2 in c:\\users\\karth\\anaconda3\\lib\\site-packages (from requests>=2.20->openai==0.28) (3.3.0)\n",
            "Requirement already satisfied: idna<4,>=2.5 in c:\\users\\karth\\anaconda3\\lib\\site-packages (from requests>=2.20->openai==0.28) (3.4)\n",
            "Requirement already satisfied: urllib3<3,>=1.21.1 in c:\\users\\karth\\anaconda3\\lib\\site-packages (from requests>=2.20->openai==0.28) (2.0.7)\n",
            "Requirement already satisfied: certifi>=2017.4.17 in c:\\users\\karth\\anaconda3\\lib\\site-packages (from requests>=2.20->openai==0.28) (2023.7.22)\n",
            "Requirement already satisfied: attrs>=17.3.0 in c:\\users\\karth\\anaconda3\\lib\\site-packages (from aiohttp->openai==0.28) (23.1.0)\n",
            "Requirement already satisfied: multidict<7.0,>=4.5 in c:\\users\\karth\\anaconda3\\lib\\site-packages (from aiohttp->openai==0.28) (6.0.4)\n",
            "Requirement already satisfied: async-timeout<5.0,>=4.0.0a3 in c:\\users\\karth\\anaconda3\\lib\\site-packages (from aiohttp->openai==0.28) (4.0.3)\n",
            "Requirement already satisfied: yarl<2.0,>=1.0 in c:\\users\\karth\\anaconda3\\lib\\site-packages (from aiohttp->openai==0.28) (1.9.2)\n",
            "Requirement already satisfied: frozenlist>=1.1.1 in c:\\users\\karth\\anaconda3\\lib\\site-packages (from aiohttp->openai==0.28) (1.4.0)\n",
            "Requirement already satisfied: aiosignal>=1.1.2 in c:\\users\\karth\\anaconda3\\lib\\site-packages (from aiohttp->openai==0.28) (1.3.1)\n",
            "Requirement already satisfied: colorama in c:\\users\\karth\\anaconda3\\lib\\site-packages (from tqdm->openai==0.28) (0.4.6)\n",
            "Downloading openai-0.28.0-py3-none-any.whl (76 kB)\n",
            "   ---------------------------------------- 0.0/76.5 kB ? eta -:--:--\n",
            "   ---------------------------------------- 76.5/76.5 kB 4.1 MB/s eta 0:00:00\n",
            "Installing collected packages: openai\n",
            "  Attempting uninstall: openai\n",
            "    Found existing installation: openai 1.5.0\n",
            "    Uninstalling openai-1.5.0:\n",
            "      Successfully uninstalled openai-1.5.0\n",
            "Successfully installed openai-0.28.0\n",
            "Note: you may need to restart the kernel to use updated packages.\n"
          ]
        }
      ],
      "source": [
        "pip install openai==0.28"
      ]
    },
    {
      "cell_type": "code",
      "execution_count": null,
      "id": "9dd26170",
      "metadata": {
        "id": "9dd26170"
      },
      "outputs": [],
      "source": []
    },
    {
      "cell_type": "code",
      "execution_count": null,
      "id": "2b04af3c",
      "metadata": {
        "id": "2b04af3c",
        "outputId": "c28fd589-f679-47da-fda0-0c235b8ccae8"
      },
      "outputs": [
        {
          "name": "stdout",
          "output_type": "stream",
          "text": [
            "{\n",
            "  \"id\": \"chatcmpl-8klHa6Ki2j71PiSbJISB5rtVsQCUa\",\n",
            "  \"object\": \"chat.completion\",\n",
            "  \"created\": 1706155534,\n",
            "  \"model\": \"gpt-3.5-turbo-0613\",\n",
            "  \"choices\": [\n",
            "    {\n",
            "      \"index\": 0,\n",
            "      \"message\": {\n",
            "        \"role\": \"assistant\",\n",
            "        \"content\": \"1. Start by heading northeast on Pothanur Road in JP Nagar, 3rd Phase.\\n2. At the first intersection, continue straight on Pothanur Road.\\n3. At the next intersection, turn right onto 100 Feet Ring Road.\\n4. Continue on 100 Feet Ring Road until you reach the junction with Outer Ring Road.\\n5. At the junction, turn left onto Outer Ring Road.\\n6. Follow Outer Ring Road for approximately 12 kilometers until you reach Nayandahalli junction.\\n7. At Nayandahalli junction, take the exit toward Mysore Road.\\n8. Merge onto Mysore Road and continue straight for about 146 kilometers.\\n9. After approximately 146 kilometers, you will arrive in Mysore, Karnataka, India.\\n\\nNote: It is always recommended to use a navigation device or app for accurate and real-time directions.\"\n",
            "      },\n",
            "      \"logprobs\": null,\n",
            "      \"finish_reason\": \"stop\"\n",
            "    }\n",
            "  ],\n",
            "  \"usage\": {\n",
            "    \"prompt_tokens\": 60,\n",
            "    \"completion_tokens\": 180,\n",
            "    \"total_tokens\": 240\n",
            "  },\n",
            "  \"system_fingerprint\": null\n",
            "}\n",
            "1. Start by heading northeast on Pothanur Road in JP Nagar, 3rd Phase.\n",
            "2. At the first intersection, continue straight on Pothanur Road.\n",
            "3. At the next intersection, turn right onto 100 Feet Ring Road.\n",
            "4. Continue on 100 Feet Ring Road until you reach the junction with Outer Ring Road.\n",
            "5. At the junction, turn left onto Outer Ring Road.\n",
            "6. Follow Outer Ring Road for approximately 12 kilometers until you reach Nayandahalli junction.\n",
            "7. At Nayandahalli junction, take the exit toward Mysore Road.\n",
            "8. Merge onto Mysore Road and continue straight for about 146 kilometers.\n",
            "9. After approximately 146 kilometers, you will arrive in Mysore, Karnataka, India.\n",
            "\n",
            "Note: It is always recommended to use a navigation device or app for accurate and real-time directions.\n"
          ]
        }
      ],
      "source": [
        "import openai\n",
        "prompt1 = \"\"\"You will be provided with a text, and your task is to create a numbered list of turn-by-turn directions from it:\n",
        "JP Nagar, 3rd Phase, Pothanur Raod, Bangalore, India to  Mysore, Karnataka, India\"\"\"\n",
        "messages = [{\"role\": \"user\", \"content\": prompt1}]\n",
        "openai.api_key = \"\"\n",
        "response = openai.ChatCompletion.create(\n",
        "  model=\"gpt-3.5-turbo\",\n",
        "  messages=messages,\n",
        "  temperature=1,\n",
        "  max_tokens=1024\n",
        ")\n",
        "print(response)\n",
        "print(response['choices'][0].message[\"content\"])"
      ]
    },
    {
      "cell_type": "code",
      "execution_count": null,
      "id": "33bc321b",
      "metadata": {
        "id": "33bc321b"
      },
      "outputs": [],
      "source": [
        "openai."
      ]
    },
    {
      "cell_type": "code",
      "execution_count": null,
      "id": "32eecbb1",
      "metadata": {
        "id": "32eecbb1"
      },
      "outputs": [],
      "source": [
        "\n",
        "\n",
        "import openai\n",
        "\n",
        "openai.api_key = \"\"\n",
        "\n",
        "prompt1 = '''\n",
        "\n",
        "\n",
        "\n",
        "Which is a faster way to get home?\n",
        "\n",
        "\n",
        "\n",
        "question:\n",
        "\n",
        "Option 1: Take an 10 minutes bus, then an 40 minute bus, and finally a 10 minute train.\n",
        "\n",
        "Option 2: Take a 90 minutes train, then a 45 minute bike ride, and finally a 10 minute bus.\n",
        "\n",
        "\n",
        "\n",
        "solution:\n",
        "\n",
        "\n",
        "\n",
        "Option 1 will take 10+40+10 = 60 minutes.\n",
        "\n",
        "Option 2 will take 90+45+10=145 minutes.\n",
        "\n",
        "\n",
        "\n",
        "Since Option 1 takes 60 minutes and Option 2 takes 145 minutes, Option 1 is faster.\n",
        "\n",
        "\n",
        "\n",
        "\n",
        "\n",
        "question :\n",
        "\n",
        "\n",
        "\n",
        "Which is a faster way to get to work?\n",
        "\n",
        "\n",
        "\n",
        "Option 1: Take a 1000 minute bus, then a half hour train, and finally a 10 minute bike ride.\n",
        "\n",
        "Option 2: Take an 800 minute bus, then an hour train, and finally a 30 minute bike ride.\n",
        "\n",
        "\n",
        "\n",
        "'''\n",
        "\n",
        "\n",
        "\n",
        "messages = [{\"role\": \"user\", \"content\": prompt1}]\n",
        "\n",
        "response = openai.ChatCompletion.create(\n",
        "\n",
        "  model=\"gpt-3.5-turbo\",\n",
        "\n",
        "  messages=messages,\n",
        "\n",
        "  temperature=1)\n",
        "\n",
        "print(response['choices'][0].message[\"content\"])"
      ]
    },
    {
      "cell_type": "markdown",
      "id": "29107ee8",
      "metadata": {
        "id": "29107ee8"
      },
      "source": [
        "# Summarize the given article"
      ]
    },
    {
      "cell_type": "code",
      "execution_count": null,
      "id": "4f2f9227",
      "metadata": {
        "id": "4f2f9227",
        "outputId": "0ce71d1f-f821-46b7-ad34-30247da3ca66"
      },
      "outputs": [
        {
          "name": "stdout",
          "output_type": "stream",
          "text": [
            "The article discusses the recent heatwave in an unnamed district and the high number of deaths reported in that area. The local medical superintendent was transferred after attributing the deaths to the heat, and a state-appointed team visited to assess the situation. However, the team expressed doubts about the heat being the sole factor, noting that nearby districts had lower death tolls. The article emphasizes that the impact of a heatwave depends on various factors such as infrastructure, social security, access to resources, and general well-being. It highlights the need for literacy and resources to address the climate crisis and prevent heat-related deaths. The article also calls for proper documentation and reporting of heat-related deaths to facilitate research and policy-making. The lack of released reports on heat-related deaths is criticized, and the article suggests that if good living conditions are not the norm, the state shares responsibility for heat-related fatalities.\n"
          ]
        }
      ],
      "source": [
        "import openai\n",
        "\n",
        "openai.api_key = \"\"\n",
        "\n",
        "\n",
        "\n",
        "prompt1 = '''\n",
        "\n",
        "Summarize the article and Strickly Avoid mentioning any specific countries, State, geographical location or regions.\n",
        "\n",
        "Article : In the brutal heatwave beating down on Uttar Pradesh and Bihar, one district in U.P., Ballia,\n",
        "reported the most deaths. The medical superintendent at the local government hospital was reportedly transferred\n",
        "after ascribing the deaths to the heat, followed by a visit by a State-appointed team to assess the local\n",
        "conditions. A member later told journalists that the team had expressed its doubts about the heat being a\n",
        "factor since the toll due to the same heatwave was lower in districts nearby. The member’s statement is a\n",
        "timely reminder that a heatwave is only half heat, the other being bad public infrastructure and social\n",
        "security. Ballia’s toll could be high because of, as the team suspects, contaminated water, or because the\n",
        "local people could not cool themselves. Heat’s deadliness depends on an individual’s general well-being,\n",
        "acclimatisation, physical exertion, comorbidities, location, relative humidity, and extent of heat exposure.\n",
        "But for all the complexity the interplay of these factors augurs, the fight against this mode of the climate\n",
        "crisis, which India is expected to suffer more often, can benefit considerably from some literacy and access to\n",
        "resources. Literacy needs to be rooted in a simple fact: heat is deadly when our bodies are unable to shed it as\n",
        "quickly as it accumulates. This can happen due to poor living conditions, adherence to caste- and gender-based\n",
        "strictures, or even in overcrowded hospitals. Amenities that can help include access to drinking water, indoor\n",
        "ventilation, health care, regular work breaks, and protections against wage loss. If a person dies in a heatwave,\n",
        "it is only fair to ask whether he/she was able to access these amenities.\n",
        "\n",
        "\n",
        "\n",
        "If U.P. and Bihar are to forge a better way forward vis-à-vis their heat response, they need to register all\n",
        "heat-related deaths, assign the cause, ensure the medical certificates of the cause of death (MCCDs) follow the\n",
        "proper codes of the most recent revision of the International Statistical Classification of Diseases and Related\n",
        "Health Problems, and issue them. Next, the Office of the Registrar General should compile and release MCCD data\n",
        "every year to facilitate independent research and policy input and to prevent time-wasting disputes over official\n",
        "versus actual figures. However, the office has not released the corresponding reports for 2021 and 2022. In the 2020\n",
        "report, which was uploaded only last year, Bihar assigned causes to just 3.4% of registered deaths — the worst among\n",
        "States. Not everyone who dies during a heatwave has died due to the heat, but only if good living conditions have\n",
        "been the norm. If they have not, the state is as much to blame as the heat.\n",
        "\n",
        "'''\n",
        "\n",
        "messages = [{\"role\": \"user\", \"content\": prompt1}]\n",
        "response = openai.ChatCompletion.create(\n",
        "model=\"gpt-3.5-turbo\",\n",
        "messages=messages,\n",
        "temperature=1)\n",
        "print(response['choices'][0].message[\"content\"])"
      ]
    },
    {
      "cell_type": "markdown",
      "id": "035fd31a",
      "metadata": {
        "id": "035fd31a"
      },
      "source": [
        "# Answer the questions below based on the text given"
      ]
    },
    {
      "cell_type": "code",
      "execution_count": null,
      "id": "2b140bf9",
      "metadata": {
        "id": "2b140bf9"
      },
      "outputs": [],
      "source": [
        "import openai\n",
        "openai.api_key = \"\"\n",
        "prompt1 = '''\n",
        "\n",
        "Please answer the question from the passage provided and if its out of passage say its out of my scope:\n",
        "\n",
        "Passage: Globalization is the process by which economies, cultures, and populations around the world become\n",
        "more integrated and interdependent. It is driven by advances in technology, transportation and communication,\n",
        "which have facilitated the flow of people, goods and ideas across national borders. Globalization has both\n",
        "positive and negative aspects. On the positive side, it has led to economic growth, the spread of new ideas\n",
        "and technologies, and increased cultural exchange. In many parts of the world, it has also helped reduce\n",
        "poverty and raise living standards. But globalization has also had negative consequences. This has led to\n",
        "job losses in some sectors, as companies move production to countries with lower labour costs. It has also\n",
        "contributed to income inequality and environmental degradation, as companies prioritize profits over sustainability.\n",
        "\n",
        "Question: What is globalization and what are the driving forces behind it?\n",
        "\n",
        "Answer : Globalization refers to the increasing interconnectedness and interdependence of the world’s economies,\n",
        "cultures, and populations. It is driven by advances in technology, transportation and communication.\n",
        "\n",
        "Question1 : Who is Prime minister of India?\n",
        "\n",
        "Answer:\n",
        "\n",
        "Question2 : What is the positive side of Globalization?\n",
        "\n",
        "Answer:\n",
        "\n",
        "'''\n",
        "messages = [{\"role\": \"user\", \"content\": prompt1}]\n",
        "response = openai.ChatCompletion.create(\n",
        "model=\"gpt-3.5-turbo\",\n",
        "messages=messages,\n",
        "temperature=1)\n",
        "print(response['choices'][0].message[\"content\"])"
      ]
    },
    {
      "cell_type": "markdown",
      "id": "d02f7ced",
      "metadata": {
        "id": "d02f7ced"
      },
      "source": [
        "# Creating emojis for the given text"
      ]
    },
    {
      "cell_type": "code",
      "execution_count": null,
      "id": "cd775475",
      "metadata": {
        "id": "cd775475",
        "outputId": "a51e40c1-8003-44e0-a437-5fac66088db6"
      },
      "outputs": [
        {
          "name": "stdout",
          "output_type": "stream",
          "text": [
            "🤖🧠🌐📈👍\n"
          ]
        }
      ],
      "source": [
        "import openai\n",
        "prompt1 = \"\"\"You will be provided with text, and your task is to translate it into emojis. Do not use any regular text.\n",
        "Do your best with emojis only.: Artificial intelligence is a technology with great promise.\"\"\"\n",
        "messages = [{\"role\": \"user\", \"content\": prompt1}]\n",
        "openai.api_key = \"\"\n",
        "response = openai.ChatCompletion.create(\n",
        "  model=\"gpt-3.5-turbo\",\n",
        "  messages=messages,\n",
        "  temperature=1,\n",
        "  max_tokens=1024\n",
        ")\n",
        "print(response['choices'][0].message[\"content\"])"
      ]
    },
    {
      "cell_type": "code",
      "execution_count": null,
      "id": "c67a6f50",
      "metadata": {
        "id": "c67a6f50"
      },
      "outputs": [],
      "source": [
        "openai.v"
      ]
    },
    {
      "cell_type": "code",
      "execution_count": null,
      "id": "d2175797",
      "metadata": {
        "id": "d2175797"
      },
      "outputs": [],
      "source": [
        "import openai\n",
        "prompt1 = \"\"\"You will be provided with text, and your task is to translate it into emojis. Do not use any regular text.\n",
        "Do your best with emojis only.: I am so happy and peaceful.\"\"\"\n",
        "messages = [{\"role\": \"user\", \"content\": prompt1}]\n",
        "openai.api_key = \"\"\n",
        "response = openai.ChatCompletion.create(\n",
        "  model=\"gpt-3.5-turbo\",\n",
        "  messages=messages,\n",
        "  temperature=1,\n",
        "  max_tokens=1024\n",
        ")\n",
        "print(response['choices'][0].message[\"content\"])"
      ]
    },
    {
      "cell_type": "markdown",
      "id": "101e7ead",
      "metadata": {
        "id": "101e7ead"
      },
      "source": [
        "# Explain the given program in a concise way"
      ]
    },
    {
      "cell_type": "code",
      "execution_count": null,
      "id": "87e43b07",
      "metadata": {
        "id": "87e43b07",
        "outputId": "72b71ce7-de4e-4d96-fa47-b3dcc5fd73cc"
      },
      "outputs": [
        {
          "name": "stdout",
          "output_type": "stream",
          "text": [
            "The code provided is a class called \"Log\" that is responsible for logging events and managing the state of those events. \n",
            "\n",
            "In the __init__ function, the code first creates the necessary directory for the log file if it doesn't already exist. Then, it opens the log file in \"a+\" mode, which allows both reading and appending to the file. It also checks if the file is newline-terminated, and if not, adds a newline at the end. The \"self.f\" attribute is set as the file object, and the \"self.path\" attribute is set as the path of the log file.\n",
            "\n",
            "The log function takes an event as a parameter and adds a unique identifier to it before serializing the event as JSON and writing it to the log file. It appends a newline character at the end.\n",
            "\n",
            "The state function reads the lines from the log file, deserializes each line into an event object, and checks if the event is of type \"submit\" and has a \"success\" value of True. If both conditions are met, it adds the event's \"id\" to the \"complete\" set and sets the \"last\" key in the \"state\" dictionary to the current event. Finally, it returns the \"state\" dictionary.\n"
          ]
        }
      ],
      "source": [
        "import openai\n",
        "prompt1 = \"\"\"You will be provided with a piece of code, and your task is to explain it in a concise way:class Log:\n",
        "    def __init__(self, path):\n",
        "        dirname = os.path.dirname(path)\n",
        "        os.makedirs(dirname, exist_ok=True)\n",
        "        f = open(path, \"a+\")\n",
        "\n",
        "        # Check that the file is newline-terminated\n",
        "        size = os.path.getsize(path)\n",
        "        if size > 0:\n",
        "            f.seek(size - 1)\n",
        "            end = f.read(1)\n",
        "            if end != \"\\n\":\n",
        "                f.write(\"\\n\")\n",
        "        self.f = f\n",
        "        self.path = path\n",
        "\n",
        "    def log(self, event):\n",
        "        event[\"_event_id\"] = str(uuid.uuid4())\n",
        "        json.dump(event, self.f)\n",
        "        self.f.write(\"\\n\")\n",
        "\n",
        "    def state(self):\n",
        "        state = {\"complete\": set(), \"last\": None}\n",
        "        for line in open(self.path):\n",
        "            event = json.loads(line)\n",
        "            if event[\"type\"] == \"submit\" and event[\"success\"]:\n",
        "                state[\"complete\"].add(event[\"id\"])\n",
        "                state[\"last\"] = event\n",
        "        return state\n",
        "\"\"\"\n",
        "messages = [{\"role\": \"user\", \"content\": prompt1}]\n",
        "openai.api_key = \"\"\n",
        "response = openai.ChatCompletion.create(\n",
        "  model=\"gpt-3.5-turbo\",\n",
        "  messages=messages,\n",
        "  temperature=1,\n",
        "  max_tokens=1024\n",
        ")\n",
        "print(response['choices'][0].message[\"content\"])"
      ]
    },
    {
      "cell_type": "markdown",
      "id": "3c606aeb",
      "metadata": {
        "id": "3c606aeb"
      },
      "source": [
        "# Creating a new dataframe or dataset with the given data"
      ]
    },
    {
      "cell_type": "code",
      "execution_count": null,
      "id": "a99317e2",
      "metadata": {
        "id": "a99317e2"
      },
      "outputs": [],
      "source": [
        "import openai\n",
        "prompt1 = \"\"\"Create a two-column CSV of top science fiction movies along with the year of release.\"\"\"\n",
        "messages = [{\"role\": \"user\", \"content\": prompt1}]\n",
        "openai.api_key = \"\"\n",
        "response = openai.ChatCompletion.create(\n",
        "  model=\"gpt-3.5-turbo\",\n",
        "  messages=messages,\n",
        "  temperature=1,\n",
        "  max_tokens=1024\n",
        ")\n",
        "print(response['choices'][0].message[\"content\"])"
      ]
    },
    {
      "cell_type": "markdown",
      "id": "291b9b01",
      "metadata": {
        "id": "291b9b01"
      },
      "source": [
        "# Fix the bug in the given code"
      ]
    },
    {
      "cell_type": "code",
      "execution_count": null,
      "id": "6a6f646e",
      "metadata": {
        "id": "6a6f646e",
        "outputId": "df377fdc-e865-4954-9f42-2eeea2f30558"
      },
      "outputs": [
        {
          "name": "stdout",
          "output_type": "stream",
          "text": [
            "Here is the corrected code:\n",
            "\n",
            "import random\n",
            "\n",
            "a = random.randint(1, 12)\n",
            "b = random.randint(1, 12)\n",
            "\n",
            "for i in range(10):\n",
            "    question = \"What is \" + str(a) + \" x \" + str(b) + \"? \"\n",
            "    answer = int(input(question))\n",
            "    if answer == a * b:\n",
            "        print(\"Well done!\")\n",
            "    else:\n",
            "        print(\"No.\")\n"
          ]
        }
      ],
      "source": [
        "import openai\n",
        "prompt1 = \"\"\"You will be provided with a piece of Python code, and your task is to find and fix bugs in it.:\n",
        "import Random\n",
        "a = random.randint(1,12)\n",
        "b = random.randint(1,12)\n",
        "for i in range(10):\n",
        "    question = \"What is \"+a+\" x \"+b+\"? \"\n",
        "    answer = input(question)\n",
        "    if answer = a*b\n",
        "        print (Well done!)\n",
        "    else:\n",
        "        print(\"No.\")\"\"\"\n",
        "messages = [{\"role\": \"user\", \"content\": prompt1}]\n",
        "openai.api_key = \"\"\n",
        "response = openai.ChatCompletion.create(\n",
        "  model=\"gpt-3.5-turbo\",\n",
        "  messages=messages,\n",
        "  temperature=1,\n",
        "  max_tokens=1024\n",
        ")\n",
        "print(response['choices'][0].message[\"content\"])"
      ]
    },
    {
      "cell_type": "markdown",
      "id": "42c21e7f",
      "metadata": {
        "id": "42c21e7f"
      },
      "source": [
        "# Find the Airport codes from the given text"
      ]
    },
    {
      "cell_type": "code",
      "execution_count": null,
      "id": "e5148897",
      "metadata": {
        "id": "e5148897"
      },
      "outputs": [],
      "source": [
        "import openai\n",
        "prompt1 = \"\"\"You will be provided with a text, and your task is to extract the airport codes from it.:\n",
        "I want to fly from Orlando to Boston\"\"\"\n",
        "messages = [{\"role\": \"user\", \"content\": prompt1}]\n",
        "openai.api_key = \"\"\n",
        "response = openai.ChatCompletion.create(\n",
        "  model=\"gpt-3.5-turbo\",\n",
        "  messages=messages,\n",
        "  temperature=1,\n",
        "  max_tokens=1024\n",
        ")\n",
        "print(response['choices'][0].message[\"content\"])"
      ]
    },
    {
      "cell_type": "code",
      "execution_count": null,
      "id": "5f7a15f2",
      "metadata": {
        "id": "5f7a15f2"
      },
      "outputs": [],
      "source": [
        "pip install openai --upgrade"
      ]
    },
    {
      "cell_type": "code",
      "execution_count": null,
      "id": "5ddbfbb9",
      "metadata": {
        "id": "5ddbfbb9"
      },
      "outputs": [],
      "source": [
        "import openai\n",
        "from packaging import version\n",
        "\n",
        "required_version = version.parse(\"1.1.1\")\n",
        "current_version = version.parse(openai.__version__)\n",
        "\n",
        "if current_version < required_version:\n",
        "    raise ValueError(f\"Error: OpenAI version {openai.__version__}\"\n",
        "                     \" is less than the required version 1.1.1\")\n",
        "else:\n",
        "    print(\"OpenAI version is compatible.\")\n",
        "\n",
        "# -- Now we can get to it\n",
        "openai.api_key = \"\""
      ]
    },
    {
      "cell_type": "code",
      "execution_count": null,
      "id": "7aeacfc4",
      "metadata": {
        "id": "7aeacfc4"
      },
      "outputs": [],
      "source": [
        "from openai import OpenAI\n",
        "client = OpenAI()\n",
        "\n",
        "response = client.images.generate(\n",
        "  model=\"dall-e-3\",\n",
        "  prompt=\"a white siamese cat\",\n",
        "  size=\"1024x1024\",\n",
        "  quality=\"standard\",\n",
        "  n=1,\n",
        ")\n",
        "\n",
        "image_url = response.data[0].url"
      ]
    },
    {
      "cell_type": "code",
      "execution_count": null,
      "id": "db4a9587",
      "metadata": {
        "id": "db4a9587"
      },
      "outputs": [],
      "source": []
    }
  ],
  "metadata": {
    "kernelspec": {
      "display_name": "Python 3 (ipykernel)",
      "language": "python",
      "name": "python3"
    },
    "language_info": {
      "codemirror_mode": {
        "name": "ipython",
        "version": 3
      },
      "file_extension": ".py",
      "mimetype": "text/x-python",
      "name": "python",
      "nbconvert_exporter": "python",
      "pygments_lexer": "ipython3",
      "version": "3.10.13"
    },
    "colab": {
      "provenance": []
    }
  },
  "nbformat": 4,
  "nbformat_minor": 5
}