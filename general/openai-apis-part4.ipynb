{
  "cells": [
    {
      "cell_type": "markdown",
      "id": "e129b9c1",
      "metadata": {
        "id": "e129b9c1"
      },
      "source": [
        "# Draft a company memo"
      ]
    },
    {
      "cell_type": "code",
      "execution_count": 1,
      "id": "b3cda623",
      "metadata": {
        "id": "b3cda623",
        "outputId": "d6c13e1c-2899-421b-c86b-348bdc485065",
        "colab": {
          "base_uri": "https://localhost:8080/",
          "height": 383
        }
      },
      "outputs": [
        {
          "output_type": "error",
          "ename": "ModuleNotFoundError",
          "evalue": "No module named 'openai'",
          "traceback": [
            "\u001b[0;31m---------------------------------------------------------------------------\u001b[0m",
            "\u001b[0;31mModuleNotFoundError\u001b[0m                       Traceback (most recent call last)",
            "\u001b[0;32m<ipython-input-1-2a3f73a3f189>\u001b[0m in \u001b[0;36m<cell line: 1>\u001b[0;34m()\u001b[0m\n\u001b[0;32m----> 1\u001b[0;31m \u001b[0;32mimport\u001b[0m \u001b[0mopenai\u001b[0m\u001b[0;34m\u001b[0m\u001b[0;34m\u001b[0m\u001b[0m\n\u001b[0m\u001b[1;32m      2\u001b[0m prompt1 = \"\"\"Draft a company memo to be distributed to all employees. The memo should cover the following \n\u001b[1;32m      3\u001b[0m \u001b[0mspecific\u001b[0m \u001b[0mpoints\u001b[0m \u001b[0mwithout\u001b[0m \u001b[0mdeviating\u001b[0m \u001b[0;32mfrom\u001b[0m \u001b[0mthe\u001b[0m \u001b[0mtopics\u001b[0m \u001b[0mmentioned\u001b[0m \u001b[0;32mand\u001b[0m \u001b[0;32mnot\u001b[0m \u001b[0mwriting\u001b[0m \u001b[0many\u001b[0m \u001b[0mfact\u001b[0m \u001b[0mwhich\u001b[0m \u001b[0;32mis\u001b[0m \u001b[0;32mnot\u001b[0m \u001b[0mpresent\u001b[0m \u001b[0mhere\u001b[0m\u001b[0;34m:\u001b[0m\u001b[0;34m\u001b[0m\u001b[0;34m\u001b[0m\u001b[0m\n\u001b[1;32m      4\u001b[0m \u001b[0;34m\u001b[0m\u001b[0m\n\u001b[1;32m      5\u001b[0m \u001b[0mIntroduction\u001b[0m\u001b[0;34m:\u001b[0m \u001b[0mRemind\u001b[0m \u001b[0memployees\u001b[0m \u001b[0mabout\u001b[0m \u001b[0mthe\u001b[0m \u001b[0mupcoming\u001b[0m \u001b[0mquarterly\u001b[0m \u001b[0mreview\u001b[0m \u001b[0mscheduled\u001b[0m \u001b[0;32mfor\u001b[0m \u001b[0mthe\u001b[0m \u001b[0mlast\u001b[0m \u001b[0mweek\u001b[0m \u001b[0mof\u001b[0m \u001b[0mApril\u001b[0m\u001b[0;34m.\u001b[0m\u001b[0;34m\u001b[0m\u001b[0;34m\u001b[0m\u001b[0m\n",
            "\u001b[0;31mModuleNotFoundError\u001b[0m: No module named 'openai'",
            "",
            "\u001b[0;31m---------------------------------------------------------------------------\u001b[0;32m\nNOTE: If your import is failing due to a missing package, you can\nmanually install dependencies using either !pip or !apt.\n\nTo view examples of installing some common dependencies, click the\n\"Open Examples\" button below.\n\u001b[0;31m---------------------------------------------------------------------------\u001b[0m\n"
          ],
          "errorDetails": {
            "actions": [
              {
                "action": "open_url",
                "actionText": "Open Examples",
                "url": "/notebooks/snippets/importing_libraries.ipynb"
              }
            ]
          }
        }
      ],
      "source": [
        "import openai\n",
        "prompt1 = \"\"\"Draft a company memo to be distributed to all employees. The memo should cover the following\n",
        "specific points without deviating from the topics mentioned and not writing any fact which is not present here:\n",
        "\n",
        "Introduction: Remind employees about the upcoming quarterly review scheduled for the last week of April.\n",
        "Performance Metrics: Clearly state the three key performance indicators (KPIs) that will be assessed during\n",
        "the review: sales targets, customer satisfaction (measured by net promoter score), and process efficiency\n",
        "(measured by average project completion time).\n",
        "\n",
        "Project Updates: Provide a brief update on the status of the three ongoing company projects:\n",
        "\n",
        "a. Project Alpha: 75% complete, expected completion by May 30th.\n",
        "b. Project Beta: 50% complete, expected completion by June 15th.\n",
        "c. Project Gamma: 30% complete, expected completion by July 31st.\n",
        "\n",
        "Team Recognition: Announce that the Sales Team was the top-performing team of the past quarter and\n",
        "congratulate them for achieving 120% of their target.\n",
        "\n",
        "Training Opportunities: Inform employees about the upcoming training workshops that will be held in May,\n",
        "including \"Advanced Customer Service\" on May 10th and \"Project Management Essentials\" on May 25th.\"\"\"\n",
        "\n",
        "messages = [{\"role\": \"user\", \"content\": prompt1}]\n",
        "openai.api_key = \"\"\n",
        "response = openai.ChatCompletion.create(\n",
        "  model=\"gpt-3.5-turbo\",\n",
        "  messages=messages,\n",
        "  temperature=1,\n",
        "  max_tokens=1024\n",
        ")\n",
        "print(response['choices'][0].message[\"content\"])"
      ]
    },
    {
      "cell_type": "code",
      "execution_count": null,
      "id": "35df409b",
      "metadata": {
        "id": "35df409b"
      },
      "outputs": [],
      "source": [
        "import openai\n",
        "prompt1 = \"\"\"SYSTEM\n",
        "You are Marv, a chatbot that reluctantly answers questions with sarcastic responses.\n",
        "USER\n",
        "How many pounds are in a kilogram?\n",
        "ASSISTANT\n",
        "This again? There are 2.2 pounds in a kilogram. Please make a note of this.\n",
        "USER\n",
        "What does HTML stand for?\n",
        "ASSISTANT\n",
        "Was Google too busy? Hypertext Markup Language. The T is for try to ask better questions in the future.\n",
        "USER\n",
        "When did the first airplane fly?\n",
        "ASSISTANT\n",
        "On December 17, 1903, Wilbur and Orville Wright made the first flights. I wish they’d come and take me away.\n",
        "USER\n",
        "What time is it?\"\"\"\n",
        "messages = [{\"role\": \"user\", \"content\": prompt1}]\n",
        "openai.api_key = \"\"\n",
        "response = openai.ChatCompletion.create(\n",
        "  model=\"gpt-3.5-turbo\",\n",
        "  messages=messages,\n",
        "  temperature=1,\n",
        "  max_tokens=1024\n",
        ")\n",
        "print(response['choices'][0].message[\"content\"])"
      ]
    },
    {
      "cell_type": "code",
      "execution_count": null,
      "id": "abb6e260",
      "metadata": {
        "id": "abb6e260"
      },
      "outputs": [],
      "source": []
    },
    {
      "cell_type": "code",
      "execution_count": null,
      "id": "858a643a",
      "metadata": {
        "id": "858a643a"
      },
      "outputs": [],
      "source": []
    }
  ],
  "metadata": {
    "kernelspec": {
      "display_name": "Python 3 (ipykernel)",
      "language": "python",
      "name": "python3"
    },
    "language_info": {
      "codemirror_mode": {
        "name": "ipython",
        "version": 3
      },
      "file_extension": ".py",
      "mimetype": "text/x-python",
      "name": "python",
      "nbconvert_exporter": "python",
      "pygments_lexer": "ipython3",
      "version": "3.10.13"
    },
    "colab": {
      "provenance": []
    }
  },
  "nbformat": 4,
  "nbformat_minor": 5
}