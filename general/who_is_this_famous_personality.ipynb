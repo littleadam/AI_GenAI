{
  "nbformat": 4,
  "nbformat_minor": 0,
  "metadata": {
    "colab": {
      "provenance": []
    },
    "kernelspec": {
      "name": "python3",
      "display_name": "Python 3"
    },
    "language_info": {
      "name": "python"
    }
  },
  "cells": [
    {
      "cell_type": "code",
      "execution_count": null,
      "metadata": {
        "colab": {
          "base_uri": "https://localhost:8080/",
          "height": 211
        },
        "id": "Pv8YdE1ioU5q",
        "outputId": "91876916-6816-4097-b2e5-7671d5dcbc5c"
      },
      "outputs": [
        {
          "output_type": "stream",
          "name": "stdout",
          "text": [
            "Jennifer Lopez, often known as J.Lo, is a multifaceted American entertainer. She's known for being a:\n",
            "\n",
            "* **Singer:** She's released numerous hit albums, including \"On the 6,\" \"J.Lo,\" \"This Is Me... Then,\" and \"A.K.A.\" Her songs often blend pop, R&B, and Latin influences.\n",
            "* **Actress:** She's starred in films like \"Selena,\" \"Out of Sight,\" \"The Wedding Planner,\" \"Maid in Manhattan,\" \"Monster-in-Law,\" and \"Hustlers.\"\n",
            "* **Dancer:** She's a skilled dancer who started her career in the entertainment industry as a dancer, even landing a role in \"In Living Color.\"\n",
            "* **Producer:** She's actively involved in producing her own projects, including music, films, and television.\n",
            "* **Fashion Icon:** She's known for her bold fashion choices and launched her own clothing line and fragrance line.\n",
            "\n",
            "Jennifer Lopez is a global icon who continues to be a successful figure in the entertainment industry across music, film, and fashion. \n",
            "\n"
          ]
        }
      ],
      "source": [
        "\"\"\"\n",
        "Install the Google AI Python SDK\n",
        "\n",
        "$ pip install google-generativeai\n",
        "\n",
        "See the getting started guide for more information:\n",
        "https://ai.google.dev/gemini-api/docs/get-started/python\n",
        "\"\"\"\n",
        "\n",
        "import os\n",
        "\n",
        "import google.generativeai as genai\n",
        "\n",
        "genai.configure(api_key=\"\")\n",
        "\n",
        "# Create the model\n",
        "generation_config = {\n",
        "  \"temperature\": 1,\n",
        "  \"top_p\": 0.95,\n",
        "  \"top_k\": 64,\n",
        "  \"max_output_tokens\": 8192,\n",
        "  \"response_mime_type\": \"text/plain\",\n",
        "}\n",
        "\n",
        "model = genai.GenerativeModel(\n",
        "  model_name=\"gemini-1.5-flash\",\n",
        "  generation_config=generation_config,\n",
        "  # safety_settings = Adjust safety settings\n",
        "  # See https://ai.google.dev/gemini-api/docs/safety-settings\n",
        ")\n",
        "\n",
        "response = chat_session.send_message(\"who is jennifer lopez\")\n",
        "\n",
        "print(response.text)"
      ]
    }
  ]
}