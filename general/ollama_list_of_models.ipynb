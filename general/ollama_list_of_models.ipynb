{
  "nbformat": 4,
  "nbformat_minor": 0,
  "metadata": {
    "colab": {
      "provenance": [],
      "include_colab_link": true
    },
    "kernelspec": {
      "name": "python3",
      "display_name": "Python 3"
    },
    "language_info": {
      "name": "python"
    }
  },
  "cells": [
    {
      "cell_type": "markdown",
      "metadata": {
        "id": "view-in-github",
        "colab_type": "text"
      },
      "source": [
        "<a href=\"https://colab.research.google.com/github/littleadam/AI_GenAI/blob/main/general/ollama_list_of_models.ipynb\" target=\"_parent\"><img src=\"https://colab.research.google.com/assets/colab-badge.svg\" alt=\"Open In Colab\"/></a>"
      ]
    },
    {
      "cell_type": "code",
      "execution_count": 1,
      "metadata": {
        "colab": {
          "base_uri": "https://localhost:8080/"
        },
        "id": "iDbw1LArQgFn",
        "outputId": "18c187a3-72b3-4f8c-d312-f11029607e0d"
      },
      "outputs": [
        {
          "output_type": "stream",
          "name": "stdout",
          "text": [
            "nvidia/Llama-3.1-Nemotron-70B-Instruct-HF\n",
            "nvidia/Llama-3.1-Nemotron-70B-Instruct\n",
            "meta-llama/Llama-3.2-1B\n",
            "meta-llama/Llama-3.2-11B-Vision-Instruct\n",
            "meta-llama/Llama-3.1-8B-Instruct\n"
          ]
        }
      ],
      "source": [
        "import requests\n",
        "def search_models(query, limit=5):\n",
        "  url = f\"https://huggingface.co/api/models?search={query}&limit={limit}\"\n",
        "  response = requests.get(url)\n",
        "  return response.json()\n",
        "\n",
        "models = search_models(\"llama\")\n",
        "for m in models:\n",
        "  print(m['id'])"
      ]
    }
  ]
}