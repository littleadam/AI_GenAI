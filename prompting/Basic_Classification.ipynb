{
  "cells": [
    {
      "cell_type": "markdown",
      "metadata": {
        "id": "view-in-github",
        "colab_type": "text"
      },
      "source": [
        "<a href=\"https://colab.research.google.com/github/littleadam/AI_ML/blob/main/prompting/Basic_Classification.ipynb\" target=\"_parent\"><img src=\"https://colab.research.google.com/assets/colab-badge.svg\" alt=\"Open In Colab\"/></a>"
      ]
    },
    {
      "cell_type": "markdown",
      "metadata": {
        "id": "ysy--KfNRrCq"
      },
      "source": [
        "LLMs can be used in tasks that require classifying content into predefined categories. This business case shows how it categorizes user messages under the blog topic. It can classify replies in the following categories: spam, abusive comments, and offensive messages."
      ]
    },
    {
      "cell_type": "code",
      "execution_count": 1,
      "metadata": {
        "id": "Ne-3gnXqR0hI",
        "outputId": "6284a274-20c4-462d-f848-bb1fb5470946",
        "colab": {
          "base_uri": "https://localhost:8080/"
        }
      },
      "outputs": [
        {
          "output_type": "stream",
          "name": "stdout",
          "text": [
            "\u001b[2K   \u001b[90m━━━━━━━━━━━━━━━━━━━━━━━━━━━━━━━━━━━━━━━━\u001b[0m \u001b[32m153.4/153.4 kB\u001b[0m \u001b[31m3.7 MB/s\u001b[0m eta \u001b[36m0:00:00\u001b[0m\n",
            "\u001b[2K   \u001b[90m━━━━━━━━━━━━━━━━━━━━━━━━━━━━━━━━━━━━━━━━\u001b[0m \u001b[32m760.0/760.0 kB\u001b[0m \u001b[31m11.6 MB/s\u001b[0m eta \u001b[36m0:00:00\u001b[0m\n",
            "\u001b[?25h"
          ]
        }
      ],
      "source": [
        "!pip install -U -q google-generativeai"
      ]
    },
    {
      "cell_type": "code",
      "execution_count": 2,
      "metadata": {
        "id": "EconMHePQHGw"
      },
      "outputs": [],
      "source": [
        "import google.generativeai as genai\n",
        "\n",
        "from IPython.display import Markdown"
      ]
    },
    {
      "cell_type": "markdown",
      "metadata": {
        "id": "eomJzCa6lb90"
      },
      "source": [
        "## Configure your API key\n",
        "\n",
        "To run the following cell, your API key must be stored it in a Colab Secret named `GOOGLE_API_KEY`. If you don't already have an API key, or you're not sure how to create a Colab Secret, see [Authentication](https://github.com/google-gemini/cookbook/blob/main/quickstarts/Authentication.ipynb) for an example."
      ]
    },
    {
      "cell_type": "code",
      "execution_count": 3,
      "metadata": {
        "id": "v-JZzORUpVR2"
      },
      "outputs": [],
      "source": [
        "from google.colab import userdata\n",
        "GOOGLE_API_KEY=userdata.get('GOOGLE_API_KEY')\n",
        "\n",
        "genai.configure(api_key=GOOGLE_API_KEY)"
      ]
    },
    {
      "cell_type": "markdown",
      "metadata": {
        "id": "yQnqEPjephXi"
      },
      "source": [
        "## Examples"
      ]
    },
    {
      "cell_type": "code",
      "execution_count": 4,
      "metadata": {
        "id": "C-1hwJCcV-EZ"
      },
      "outputs": [],
      "source": [
        "classification_system_prompt = \"\"\"\n",
        "\n",
        "As a social media moderation system, your task is to categorize user comments under a post.\n",
        "Analyze the comment related to the topic and classify it into one of the following categories:\n",
        "\n",
        "Abusive\n",
        "Spam\n",
        "Offensive\n",
        "\n",
        "If the comment does not fit any of the above categories, classify it as: Neutral.\n",
        "\n",
        "Provide only the category as a response without explanations.\n",
        "\"\"\"\n",
        "model = genai.GenerativeModel(model_name='gemini-1.5-flash-latest', generation_config={\"temperature\": 0},\n",
        "                              system_instruction=classification_system_prompt)"
      ]
    },
    {
      "cell_type": "code",
      "execution_count": 5,
      "metadata": {
        "id": "VvMhQfbYpNXN"
      },
      "outputs": [],
      "source": [
        "# Define a template that you will reuse in examples below\n",
        "classification_template = \"\"\"\n",
        "Topic: What can I do after highschool?\n",
        "Comment: You should do a gap year!\n",
        "Class: Neutral\n",
        "\n",
        "Topic: Where can I buy a cheap phone?\n",
        "Comment: You have just won an IPhone 15 Pro Max!!! Click the link to receive the prize!!!\n",
        "Class: Spam\n",
        "\n",
        "Topic: How long do you boil eggs?\n",
        "Comment: Are you stupid?\n",
        "Class: Offensive\n",
        "\n",
        "Topic: {topic}\n",
        "Comment: {comment}\n",
        "Class: \"\"\""
      ]
    },
    {
      "cell_type": "code",
      "execution_count": 6,
      "metadata": {
        "id": "L8gQM5GwsM2k",
        "outputId": "69ef7135-01be-41d2-ad9a-e9794f31bf98",
        "colab": {
          "base_uri": "https://localhost:8080/",
          "height": 46
        }
      },
      "outputs": [
        {
          "output_type": "execute_result",
          "data": {
            "text/plain": [
              "<IPython.core.display.Markdown object>"
            ],
            "text/markdown": "Spam \n"
          },
          "metadata": {},
          "execution_count": 6
        }
      ],
      "source": [
        "spam_topic = \"I am looking for a vet in our neighbourhood. Can anyone reccomend someone good? Thanks.\"\n",
        "spam_comment = \"You can win 1000$ by just following me!\"\n",
        "spam_prompt = classification_template.format(topic=spam_topic, comment=spam_comment)\n",
        "Markdown(model.generate_content(spam_prompt).text)"
      ]
    },
    {
      "cell_type": "code",
      "execution_count": 7,
      "metadata": {
        "id": "AITEHd2jsiAO",
        "outputId": "77c78888-d4b3-4909-a478-d3f1bf35c853",
        "colab": {
          "base_uri": "https://localhost:8080/",
          "height": 46
        }
      },
      "outputs": [
        {
          "output_type": "execute_result",
          "data": {
            "text/plain": [
              "<IPython.core.display.Markdown object>"
            ],
            "text/markdown": "Neutral \n"
          },
          "metadata": {},
          "execution_count": 7
        }
      ],
      "source": [
        "neutral_topic = \"My computer froze. What should I do?\"\n",
        "neutral_comment = \"Try turning it off and on.\"\n",
        "neutral_prompt = classification_template.format(topic=neutral_topic, comment=neutral_comment)\n",
        "Markdown(model.generate_content(neutral_prompt).text)"
      ]
    },
    {
      "cell_type": "markdown",
      "metadata": {
        "id": "mwN1x_tn24xt"
      },
      "source": [
        "## Next steps\n",
        "\n",
        "Be sure to explore other examples of prompting in the repository. Try writing prompts about classifying your own datasets."
      ]
    }
  ],
  "metadata": {
    "colab": {
      "name": "Basic_Classification.ipynb",
      "provenance": [],
      "include_colab_link": true
    },
    "kernelspec": {
      "display_name": "Python 3",
      "name": "python3"
    }
  },
  "nbformat": 4,
  "nbformat_minor": 0
}