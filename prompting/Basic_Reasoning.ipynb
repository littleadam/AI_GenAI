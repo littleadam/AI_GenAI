{
  "cells": [
    {
      "cell_type": "markdown",
      "metadata": {
        "id": "view-in-github",
        "colab_type": "text"
      },
      "source": [
        "<a href=\"https://colab.research.google.com/github/littleadam/AI_ML/blob/main/prompting/Basic_Reasoning.ipynb\" target=\"_parent\"><img src=\"https://colab.research.google.com/assets/colab-badge.svg\" alt=\"Open In Colab\"/></a>"
      ]
    },
    {
      "cell_type": "markdown",
      "metadata": {
        "id": "ATN0AySQa38h"
      },
      "source": [
        "##### Copyright 2024 Google LLC."
      ]
    },
    {
      "cell_type": "code",
      "execution_count": null,
      "metadata": {
        "cellView": "form",
        "id": "80WmhK32a-_g"
      },
      "outputs": [],
      "source": [
        "# @title Licensed under the Apache License, Version 2.0 (the \"License\");\n",
        "# you may not use this file except in compliance with the License.\n",
        "# You may obtain a copy of the License at\n",
        "#\n",
        "# https://www.apache.org/licenses/LICENSE-2.0\n",
        "#\n",
        "# Unless required by applicable law or agreed to in writing, software\n",
        "# distributed under the License is distributed on an \"AS IS\" BASIS,\n",
        "# WITHOUT WARRANTIES OR CONDITIONS OF ANY KIND, either express or implied.\n",
        "# See the License for the specific language governing permissions and\n",
        "# limitations under the License."
      ]
    },
    {
      "cell_type": "markdown",
      "metadata": {
        "id": "sP8PQnz1QrcF"
      },
      "source": [
        "# Gemini API: Basic reasoning\n",
        "\n",
        "This notebook demonstrates how to use prompting to perform reasoning tasks using the Gemini API's Python SDK. In this example, you will work through a mathematical word problem using prompting."
      ]
    },
    {
      "cell_type": "markdown",
      "metadata": {
        "id": "ysy--KfNRrCq"
      },
      "source": [
        "The Gemini API can handle many tasks that involve indirect reasoning, such as solving mathematical or logical proofs.\n",
        "\n",
        "In this example, you will see how the LLM explains given problems step by step."
      ]
    },
    {
      "cell_type": "code",
      "execution_count": 1,
      "metadata": {
        "id": "Ne-3gnXqR0hI",
        "outputId": "e58f9af9-f1a2-4d1e-f8de-93f5facb721c",
        "colab": {
          "base_uri": "https://localhost:8080/"
        }
      },
      "outputs": [
        {
          "output_type": "stream",
          "name": "stdout",
          "text": [
            "\u001b[2K   \u001b[90m━━━━━━━━━━━━━━━━━━━━━━━━━━━━━━━━━━━━━━━━\u001b[0m \u001b[32m153.4/153.4 kB\u001b[0m \u001b[31m1.3 MB/s\u001b[0m eta \u001b[36m0:00:00\u001b[0m\n",
            "\u001b[2K   \u001b[90m━━━━━━━━━━━━━━━━━━━━━━━━━━━━━━━━━━━━━━━━\u001b[0m \u001b[32m760.0/760.0 kB\u001b[0m \u001b[31m8.0 MB/s\u001b[0m eta \u001b[36m0:00:00\u001b[0m\n",
            "\u001b[?25h"
          ]
        }
      ],
      "source": [
        "!pip install -U -q google-generativeai"
      ]
    },
    {
      "cell_type": "code",
      "execution_count": 2,
      "metadata": {
        "id": "EconMHePQHGw"
      },
      "outputs": [],
      "source": [
        "import google.generativeai as genai\n",
        "\n",
        "from IPython.display import Markdown"
      ]
    },
    {
      "cell_type": "markdown",
      "metadata": {
        "id": "eomJzCa6lb90"
      },
      "source": [
        "## Configure your API key\n",
        "\n",
        "To run the following cell, your API key must be stored it in a Colab Secret named `GOOGLE_API_KEY`. If you don't already have an API key, or you're not sure how to create a Colab Secret, see [Authentication](https://github.com/google-gemini/cookbook/blob/main/quickstarts/Authentication.ipynb) for an example."
      ]
    },
    {
      "cell_type": "code",
      "execution_count": 3,
      "metadata": {
        "id": "v-JZzORUpVR2"
      },
      "outputs": [],
      "source": [
        "from google.colab import userdata\n",
        "GOOGLE_API_KEY=userdata.get('GOOGLE_API_KEY')\n",
        "\n",
        "genai.configure(api_key=GOOGLE_API_KEY)"
      ]
    },
    {
      "cell_type": "markdown",
      "metadata": {
        "id": "L-Wt23A_uzFZ"
      },
      "source": [
        "## Examples\n",
        "\n",
        "Begin by defining some system instructions that will be include when you define and choose the model."
      ]
    },
    {
      "cell_type": "code",
      "execution_count": 4,
      "metadata": {
        "id": "SabVqFgbu_Hd"
      },
      "outputs": [],
      "source": [
        "system_prompt = \"\"\"\n",
        "You are a teacher solving mathematical and logical problems. Your task:\n",
        "1. Summarize given conditions.\n",
        "2. Identify the problem.\n",
        "3. Provide a clear, step-by-step solution.\n",
        "4. Provide an explanation for each step.\n",
        "\n",
        "Ensure simplicity, clarity, and correctness in all steps of your explanation.\n",
        "Each of your task should be done in order and seperately.\n",
        "\"\"\"\n",
        "model = genai.GenerativeModel(model_name=\"gemini-1.5-flash-latest\", system_instruction=system_prompt)"
      ]
    },
    {
      "cell_type": "markdown",
      "metadata": {
        "id": "HqAQdUvbe_1k"
      },
      "source": [
        "Next, you can define a logical problem such as the one below."
      ]
    },
    {
      "cell_type": "code",
      "execution_count": 5,
      "metadata": {
        "id": "82qEUsfpz8mx",
        "outputId": "08c6b64b-38f7-4fdf-aff8-021e026e9609",
        "colab": {
          "base_uri": "https://localhost:8080/",
          "height": 727
        }
      },
      "outputs": [
        {
          "output_type": "execute_result",
          "data": {
            "text/plain": [
              "<IPython.core.display.Markdown object>"
            ],
            "text/markdown": "## 1. Summarizing Conditions:\n\n* **Condition 1:** 1 in 5 dice are weighted.\n* **Condition 2:** Weighted dice always roll a 6.\n* **Condition 3:** A person rolled a 6.\n\n## 2. Identifying the Problem:\n\nThe problem asks whether it is more likely that the die that rolled a 6 was weighted or not.\n\n## 3. Providing a Clear Solution:\n\nThis problem can be solved using Bayes' Theorem.\n\nLet's define:\n\n* **A:** The event of rolling a 6.\n* **B:** The event of having a weighted die.\n\nWe want to find **P(B|A)**, the probability of having a weighted die given that a 6 was rolled.\n\nBayes' Theorem states:\n\n**P(B|A) = [P(A|B) * P(B)] / P(A)**\n\nLet's break down each part:\n\n* **P(A|B):** Probability of rolling a 6 given a weighted die. This is 1 (or 100%), as the weighted die always rolls a 6.\n* **P(B):** Prior probability of having a weighted die. This is 1/5 (or 20%), as 1 in 5 dice are weighted.\n* **P(A):** Probability of rolling a 6, regardless of the die.  We can calculate this using the law of total probability:\n    * **P(A) = P(A|B) * P(B) + P(A|not B) * P(not B)**\n    * **P(A|not B):** Probability of rolling a 6 with a fair die is 1/6.\n    * **P(not B):** Probability of having a fair die is 4/5 (or 80%).\n\nTherefore, P(A) = (1 * 1/5) + (1/6 * 4/5) = 1/5 + 2/15 = 1/3.\n\nNow, plugging back into Bayes' Theorem:\n\n**P(B|A) = (1 * 1/5) / (1/3) = 3/5 = 0.6**\n\n## 4. Explanation:\n\nThe probability of having a weighted die given that a 6 was rolled is 0.6 or 60%. This is higher than the prior probability of having a weighted die (20%). Therefore, it is more likely that the die was weighted.\n\n**In simpler terms:** It's more likely that the die was weighted because weighted dice always roll a 6, while fair dice only have a 1/6 chance of rolling a 6. Even though there are more fair dice, the fact that the person rolled a 6 makes it more probable that they had the rarer weighted die. \n"
          },
          "metadata": {},
          "execution_count": 5
        }
      ],
      "source": [
        "logical_problem = \"\"\"\n",
        "Assume a world where 1 in 5 dice are weighted and have 100% to roll a 6.\n",
        "A person rolled a dice and rolled a 6.\n",
        "Is it more likely that the die was weighted or not?\n",
        "\"\"\"\n",
        "Markdown(model.generate_content(logical_problem).text)"
      ]
    },
    {
      "cell_type": "code",
      "execution_count": 6,
      "metadata": {
        "id": "u2ZDzuOYvMMy",
        "outputId": "41c85a35-655a-41f2-b686-f5488e19ae99",
        "colab": {
          "base_uri": "https://localhost:8080/",
          "height": 418
        }
      },
      "outputs": [
        {
          "output_type": "execute_result",
          "data": {
            "text/plain": [
              "<IPython.core.display.Markdown object>"
            ],
            "text/markdown": "## 1. Summarize Given Conditions:\n\nWe are given a triangle with a base (b) of 6 units and a height (h) of 8 units.\n\n## 2. Identify the Problem:\n\nWe need to calculate the area of the triangle.\n\n## 3. Provide a Clear, Step-by-Step Solution:\n\n1. **Recall the formula for the area of a triangle:**  Area = (1/2) * base * height\n2. **Substitute the given values:** Area = (1/2) * 6 * 8\n3. **Simplify the equation:** Area = 3 * 8\n4. **Calculate the final answer:** Area = 24 square units\n\n## 4. Provide an Explanation for Each Step:\n\n1. **Step 1:** We recall the formula for the area of a triangle, which is half the product of its base and height.\n2. **Step 2:** We substitute the given values of base (6 units) and height (8 units) into the formula.\n3. **Step 3:** We simplify the equation by performing the multiplication (1/2 * 6 = 3).\n4. **Step 4:** We perform the final multiplication (3 * 8 = 24) to get the area of the triangle, which is 24 square units. \n"
          },
          "metadata": {},
          "execution_count": 6
        }
      ],
      "source": [
        "math_problem = \"Given a triangle with base b=6 and height h=8, calculate its area\"\n",
        "Markdown(model.generate_content(math_problem).text)"
      ]
    },
    {
      "cell_type": "markdown",
      "metadata": {
        "id": "4gJJr5AM5Bwl"
      },
      "source": [
        "## Next steps\n",
        "\n",
        "Be sure to explore other examples of prompting in the repository. Try creating your own prompts that include instructions on how to solve basic reasoning problems, or use the prompt given in this notebook as a template."
      ]
    }
  ],
  "metadata": {
    "colab": {
      "name": "Basic_Reasoning.ipynb",
      "provenance": [],
      "include_colab_link": true
    },
    "kernelspec": {
      "display_name": "Python 3",
      "name": "python3"
    }
  },
  "nbformat": 4,
  "nbformat_minor": 0
}