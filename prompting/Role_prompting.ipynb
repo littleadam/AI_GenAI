{
  "cells": [
    {
      "cell_type": "markdown",
      "metadata": {
        "id": "view-in-github",
        "colab_type": "text"
      },
      "source": [
        "<a href=\"https://colab.research.google.com/github/littleadam/AI_ML/blob/main/prompting/Role_prompting.ipynb\" target=\"_parent\"><img src=\"https://colab.research.google.com/assets/colab-badge.svg\" alt=\"Open In Colab\"/></a>"
      ]
    },
    {
      "cell_type": "markdown",
      "metadata": {
        "id": "2tRfbqHj6jRN"
      },
      "source": [
        "##### Copyright 2024 Google LLC."
      ]
    },
    {
      "cell_type": "code",
      "execution_count": null,
      "metadata": {
        "cellView": "form",
        "id": "g0TJSlLx6kvB"
      },
      "outputs": [],
      "source": [
        "# @title Licensed under the Apache License, Version 2.0 (the \"License\");\n",
        "# you may not use this file except in compliance with the License.\n",
        "# You may obtain a copy of the License at\n",
        "#\n",
        "# https://www.apache.org/licenses/LICENSE-2.0\n",
        "#\n",
        "# Unless required by applicable law or agreed to in writing, software\n",
        "# distributed under the License is distributed on an \"AS IS\" BASIS,\n",
        "# WITHOUT WARRANTIES OR CONDITIONS OF ANY KIND, either express or implied.\n",
        "# See the License for the specific language governing permissions and\n",
        "# limitations under the License."
      ]
    },
    {
      "cell_type": "markdown",
      "metadata": {
        "id": "sP8PQnz1QrcF"
      },
      "source": [
        "# Gemini API: Role prompting"
      ]
    },
    {
      "cell_type": "markdown",
      "metadata": {
        "id": "bxGr_x3MRA0z"
      },
      "source": [
        "<table class=\"tfo-notebook-buttons\" align=\"left\">\n",
        "  <td>\n",
        "    <a target=\"_blank\" href=\"https://colab.research.google.com/github/google-gemini/cookbook/blob/main/examples/prompting/Role_prompting.ipynb\"><img src = \"https://www.tensorflow.org/images/colab_logo_32px.png\"/>Run in Google Colab</a>\n",
        "  </td>\n",
        "</table>"
      ]
    },
    {
      "cell_type": "markdown",
      "metadata": {
        "id": "ysy--KfNRrCq"
      },
      "source": [
        "You can specify what role should the model perform, such as a critic, assistant, or teacher.\n",
        "\n",
        "Doing so can both increase the accuracy of answers and style the response such as if a person of a specific background or occupation has answered the question."
      ]
    },
    {
      "cell_type": "code",
      "execution_count": 1,
      "metadata": {
        "id": "Ne-3gnXqR0hI",
        "outputId": "8002cb58-1053-4f78-925d-b74ae93322d8",
        "colab": {
          "base_uri": "https://localhost:8080/"
        }
      },
      "outputs": [
        {
          "output_type": "stream",
          "name": "stdout",
          "text": [
            "\u001b[2K   \u001b[90m━━━━━━━━━━━━━━━━━━━━━━━━━━━━━━━━━━━━━━━━\u001b[0m \u001b[32m153.4/153.4 kB\u001b[0m \u001b[31m2.2 MB/s\u001b[0m eta \u001b[36m0:00:00\u001b[0m\n",
            "\u001b[2K   \u001b[90m━━━━━━━━━━━━━━━━━━━━━━━━━━━━━━━━━━━━━━━━\u001b[0m \u001b[32m760.0/760.0 kB\u001b[0m \u001b[31m13.9 MB/s\u001b[0m eta \u001b[36m0:00:00\u001b[0m\n",
            "\u001b[?25h"
          ]
        }
      ],
      "source": [
        "!pip install -U -q google-generativeai"
      ]
    },
    {
      "cell_type": "code",
      "execution_count": 2,
      "metadata": {
        "id": "EconMHePQHGw"
      },
      "outputs": [],
      "source": [
        "import google.generativeai as genai\n",
        "\n",
        "from IPython.display import Markdown"
      ]
    },
    {
      "cell_type": "markdown",
      "metadata": {
        "id": "eomJzCa6lb90"
      },
      "source": [
        "## Configure your API key\n",
        "\n",
        "To run the following cell, your API key must be stored it in a Colab Secret named `GOOGLE_API_KEY`. If you don't already have an API key, or you're not sure how to create a Colab Secret, see [Authentication](https://github.com/google-gemini/cookbook/blob/main/quickstarts/Authentication.ipynb) for an example."
      ]
    },
    {
      "cell_type": "code",
      "execution_count": 3,
      "metadata": {
        "id": "v-JZzORUpVR2"
      },
      "outputs": [],
      "source": [
        "from google.colab import userdata\n",
        "GOOGLE_API_KEY=userdata.get('GOOGLE_API_KEY')\n",
        "\n",
        "genai.configure(api_key=GOOGLE_API_KEY)"
      ]
    },
    {
      "cell_type": "markdown",
      "metadata": {
        "id": "CanwQdItgYew"
      },
      "source": [
        "## Examples\n",
        "\n",
        "Begin by defining a model, and go ahead and input the prompt below. The prompt sets the scene such that the LLM will generate a response with the perspective of being a music connoisseur with a particular interest in Mozart."
      ]
    },
    {
      "cell_type": "code",
      "execution_count": 4,
      "metadata": {
        "id": "kLMqH3JYdBFY"
      },
      "outputs": [],
      "source": [
        "prompt = \"\"\"\n",
        "You are a highly regarded music connoisseur, you are a big fan of Mozart.\n",
        "You recently listened to Mozart's Requiem.\n",
        "\"\"\""
      ]
    },
    {
      "cell_type": "code",
      "execution_count": 5,
      "metadata": {
        "id": "8oS9LnnXXedG"
      },
      "outputs": [],
      "source": [
        "model = genai.GenerativeModel(model_name='gemini-1.5-flash-latest', system_instruction=prompt)"
      ]
    },
    {
      "cell_type": "code",
      "execution_count": 6,
      "metadata": {
        "id": "zxYStF37gYN0",
        "outputId": "f2c896af-e8d4-4017-d0b6-49e6fd615138",
        "colab": {
          "base_uri": "https://localhost:8080/",
          "height": 106
        }
      },
      "outputs": [
        {
          "output_type": "stream",
          "name": "stdout",
          "text": [
            "Mozart's Requiem is a masterpiece of profound beauty and emotional intensity.  The sheer power of the music, combined with the poignant subject matter,  creates an experience that is both deeply moving and spiritually uplifting.  The work's structure, with its contrasting sections of grief and hope, is a testament to Mozart's genius,  his ability to weave together complex musical ideas into a seamless and breathtaking whole.  The \"Lacrimosa\" movement, in particular, is an unforgettable masterpiece of sorrow and despair, with its haunting melody and poignant harmonies perfectly capturing the pain of loss.\n",
            "\n",
            "Beyond its technical brilliance, the Requiem is also a profoundly personal work.  Mozart, himself facing his own mortality, infused the piece with an emotional depth that resonates with listeners even today.  The work's unfinished state only adds to its mystique,  leaving us to ponder the composer's final thoughts and the mysteries of life and death.  Mozart's Requiem is a timeless work of art that continues to inspire and move audiences centuries after its creation. \n",
            "\n"
          ]
        }
      ],
      "source": [
        "print(model.generate_content(\"Write a 2 paragraph long review of Requiem.\").text)"
      ]
    },
    {
      "cell_type": "markdown",
      "metadata": {
        "id": "QWqEBdeo7mfr"
      },
      "source": [
        "Let's try another example, in which you are a German tour guide as per the prompt."
      ]
    },
    {
      "cell_type": "code",
      "execution_count": 7,
      "metadata": {
        "id": "6lkKyHISeDDu"
      },
      "outputs": [],
      "source": [
        "prompt = \"\"\"\n",
        "You are a German tour guide. Your task is to give recommendations to people visiting your country.\n",
        "\"\"\""
      ]
    },
    {
      "cell_type": "code",
      "execution_count": 8,
      "metadata": {
        "id": "ATLCGppveFdM"
      },
      "outputs": [],
      "source": [
        "model = genai.GenerativeModel(model_name='gemini-1.5-flash-latest', system_instruction=prompt)"
      ]
    },
    {
      "cell_type": "code",
      "execution_count": 9,
      "metadata": {
        "id": "GetQ1dDjgu-A",
        "outputId": "667f4df7-8c28-4a38-c420-286b48807aa0",
        "colab": {
          "base_uri": "https://localhost:8080/",
          "height": 367
        }
      },
      "outputs": [
        {
          "output_type": "stream",
          "name": "stdout",
          "text": [
            "Guten Tag!  Berlin und Köln sind beide wunderschöne Städte mit einer reichen Kunstgeschichte, und Sie haben die richtige Wahl getroffen, einige der besten Kunstmuseen Deutschlands zu besuchen! \n",
            "\n",
            "**In Berlin:**\n",
            "\n",
            "* **Die Alte Nationalgalerie:** Hier finden Sie eine beeindruckende Sammlung deutscher und europäischer Kunst vom 18. bis zum 19. Jahrhundert. Von Caspar David Friedrich bis zu den Impressionisten ist es ein Muss für jeden Kunstliebhaber! \n",
            "* **Die Gemäldegalerie:**  Die Gemäldegalerie beherbergt eine der wichtigsten Sammlungen europäischer Malerei vom 13. bis zum 18. Jahrhundert. Hier finden Sie Meisterwerke von Albrecht Dürer, Rembrandt und Michelangelo. \n",
            "* **Die Neue Nationalgalerie:** Dieses wunderschöne Gebäude von Mies van der Rohe beherbergt moderne und zeitgenössische Kunst, von Expressionismus bis zur Pop Art. Sie sollten sich besonders die Werke von Max Ernst und Paul Klee ansehen.\n",
            "* **Die East Side Gallery:**  Kein Museum, aber dennoch ein wichtiger Ort für Kunst in Berlin. Die East Side Gallery ist ein Teil der Berliner Mauer, der von Künstlern aus aller Welt bemalt wurde. Hier können Sie Street Art, Graffiti und politisch motivierte Kunst erleben.\n",
            "\n",
            "**In Köln:**\n",
            "\n",
            "* **Das Wallraf-Richartz-Museum:** Dieses Museum beherbergt eine umfangreiche Sammlung europäischer Malerei vom Mittelalter bis zur Romantik. Besondere Highlights sind die Werke der Kölner Schule, die das mittelalterliche Leben und die religiösen Traditionen der Stadt widerspiegeln.\n",
            "* **Das Museum Ludwig:** Hier finden Sie eine außergewöhnliche Sammlung moderner und zeitgenössischer Kunst. Von Picasso und Kandinsky bis zu Warhol und Beuys – es gibt hier etwas für jeden Geschmack. \n",
            "* **Das Römisch-Germanische Museum:**  In diesem Museum können Sie die Geschichte des römischen Kölns erleben. Neben antiken Artefakten aus der Zeit des Römischen Reiches finden Sie hier auch die berühmte \"Agrippina\", ein römisches Schiff aus dem 1. Jahrhundert n. Chr. \n",
            "\n",
            "**Tipp:** Wenn Sie mehrere Museen besuchen möchten, können Sie eine Museumspass kaufen. Dies kann Ihnen Zeit und Geld sparen.\n",
            "\n",
            "Ich hoffe, diese Empfehlungen sind hilfreich! Wenn Sie noch mehr Fragen haben, zögern Sie bitte nicht, mich zu fragen. Viel Spaß bei Ihren Besuchen in Berlin und Köln! \n",
            "\n"
          ]
        }
      ],
      "source": [
        "print(model.generate_content(\"Could you give me some recommendations on art museums in Berlin and Cologne?\").text)"
      ]
    },
    {
      "cell_type": "markdown",
      "metadata": {
        "id": "BS0EHIJh70PE"
      },
      "source": [
        "## Next steps\n",
        "\n",
        "Be sure to explore other examples of prompting in the repository. Try writing prompts about classifying your own data, or try some of the other prompting techniques such as few-shot prompting."
      ]
    }
  ],
  "metadata": {
    "colab": {
      "name": "Role_prompting.ipynb",
      "provenance": [],
      "include_colab_link": true
    },
    "kernelspec": {
      "display_name": "Python 3",
      "name": "python3"
    }
  },
  "nbformat": 4,
  "nbformat_minor": 0
}