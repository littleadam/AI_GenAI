{
  "cells": [
    {
      "cell_type": "markdown",
      "metadata": {
        "id": "view-in-github",
        "colab_type": "text"
      },
      "source": [
        "<a href=\"https://colab.research.google.com/github/littleadam/AI_ML/blob/main/prompting/Providing_base_cases.ipynb\" target=\"_parent\"><img src=\"https://colab.research.google.com/assets/colab-badge.svg\" alt=\"Open In Colab\"/></a>"
      ]
    },
    {
      "cell_type": "markdown",
      "metadata": {
        "id": "gy3KpnNx_Jl4"
      },
      "source": [
        "##### Copyright 2024 Google LLC."
      ]
    },
    {
      "cell_type": "code",
      "execution_count": null,
      "metadata": {
        "cellView": "form",
        "id": "fKqk8LWo_TCU"
      },
      "outputs": [],
      "source": [
        "# @title Licensed under the Apache License, Version 2.0 (the \"License\");\n",
        "# you may not use this file except in compliance with the License.\n",
        "# You may obtain a copy of the License at\n",
        "#\n",
        "# https://www.apache.org/licenses/LICENSE-2.0\n",
        "#\n",
        "# Unless required by applicable law or agreed to in writing, software\n",
        "# distributed under the License is distributed on an \"AS IS\" BASIS,\n",
        "# WITHOUT WARRANTIES OR CONDITIONS OF ANY KIND, either express or implied.\n",
        "# See the License for the specific language governing permissions and\n",
        "# limitations under the License."
      ]
    },
    {
      "cell_type": "markdown",
      "metadata": {
        "id": "sP8PQnz1QrcF"
      },
      "source": [
        "# Gemini API: Providing base cases"
      ]
    },
    {
      "cell_type": "markdown",
      "metadata": {
        "id": "bxGr_x3MRA0z"
      },
      "source": [
        "<table class=\"tfo-notebook-buttons\" align=\"left\">\n",
        "  <td>\n",
        "    <a target=\"_blank\" href=\"https://colab.research.google.com/github/google-gemini/cookbook/blob/main/examples/prompting/Providing_base_cases.ipynb\"><img src = \"https://www.tensorflow.org/images/colab_logo_32px.png\"/>Run in Google Colab</a>\n",
        "  </td>\n",
        "</table>"
      ]
    },
    {
      "cell_type": "markdown",
      "metadata": {
        "id": "ysy--KfNRrCq"
      },
      "source": [
        "LLMs require specific instructions to provide the expected results. Because of this, it is vital to ensure that the model knows how it should behave when it lacks information or when it should not answer a given query and provide a default response instead."
      ]
    },
    {
      "cell_type": "code",
      "execution_count": 1,
      "metadata": {
        "id": "Ne-3gnXqR0hI",
        "outputId": "fefa406b-d230-4fa3-f4d6-3eec54051a61",
        "colab": {
          "base_uri": "https://localhost:8080/"
        }
      },
      "outputs": [
        {
          "output_type": "stream",
          "name": "stdout",
          "text": [
            "\u001b[?25l   \u001b[90m━━━━━━━━━━━━━━━━━━━━━━━━━━━━━━━━━━━━━━━━\u001b[0m \u001b[32m0.0/153.4 kB\u001b[0m \u001b[31m?\u001b[0m eta \u001b[36m-:--:--\u001b[0m\r\u001b[2K   \u001b[91m━━━━━━━━━━━━━━━━━━━━━━━━━━━━━━━━━━━━━\u001b[0m\u001b[90m╺\u001b[0m\u001b[90m━━\u001b[0m \u001b[32m143.4/153.4 kB\u001b[0m \u001b[31m5.6 MB/s\u001b[0m eta \u001b[36m0:00:01\u001b[0m\r\u001b[2K   \u001b[90m━━━━━━━━━━━━━━━━━━━━━━━━━━━━━━━━━━━━━━━━\u001b[0m \u001b[32m153.4/153.4 kB\u001b[0m \u001b[31m2.8 MB/s\u001b[0m eta \u001b[36m0:00:00\u001b[0m\n",
            "\u001b[?25h\u001b[?25l   \u001b[90m━━━━━━━━━━━━━━━━━━━━━━━━━━━━━━━━━━━━━━━━\u001b[0m \u001b[32m0.0/760.0 kB\u001b[0m \u001b[31m?\u001b[0m eta \u001b[36m-:--:--\u001b[0m\r\u001b[2K   \u001b[91m━━━━━━━━━━━━━━━━━━━━━━━━━━━━━━━━━━━━━━━\u001b[0m\u001b[91m╸\u001b[0m \u001b[32m757.8/760.0 kB\u001b[0m \u001b[31m30.1 MB/s\u001b[0m eta \u001b[36m0:00:01\u001b[0m\r\u001b[2K   \u001b[90m━━━━━━━━━━━━━━━━━━━━━━━━━━━━━━━━━━━━━━━━\u001b[0m \u001b[32m760.0/760.0 kB\u001b[0m \u001b[31m13.3 MB/s\u001b[0m eta \u001b[36m0:00:00\u001b[0m\n",
            "\u001b[?25h"
          ]
        }
      ],
      "source": [
        "!pip install -U -q google-generativeai"
      ]
    },
    {
      "cell_type": "code",
      "execution_count": 2,
      "metadata": {
        "id": "EconMHePQHGw"
      },
      "outputs": [],
      "source": [
        "import google.generativeai as genai"
      ]
    },
    {
      "cell_type": "markdown",
      "metadata": {
        "id": "eomJzCa6lb90"
      },
      "source": [
        "## Configure your API key\n",
        "\n",
        "To run the following cell, your API key must be stored it in a Colab Secret named `GOOGLE_API_KEY`. If you don't already have an API key, or you're not sure how to create a Colab Secret, see [Authentication](https://github.com/google-gemini/cookbook/blob/main/quickstarts/Authentication.ipynb) for an example."
      ]
    },
    {
      "cell_type": "code",
      "execution_count": 3,
      "metadata": {
        "id": "v-JZzORUpVR2"
      },
      "outputs": [],
      "source": [
        "from google.colab import userdata\n",
        "GOOGLE_API_KEY=userdata.get('GOOGLE_API_KEY')\n",
        "\n",
        "genai.configure(api_key=GOOGLE_API_KEY)"
      ]
    },
    {
      "cell_type": "markdown",
      "metadata": {
        "id": "FMne_rcZmz1X"
      },
      "source": [
        "## Examples"
      ]
    },
    {
      "cell_type": "markdown",
      "metadata": {
        "id": "0pZ-S0f8_mbQ"
      },
      "source": [
        "Let's go ahead and define the model, as well as give the model a template for how it should answer the question."
      ]
    },
    {
      "cell_type": "code",
      "execution_count": 4,
      "metadata": {
        "id": "O_q8ak-BU9kJ"
      },
      "outputs": [],
      "source": [
        "instructions = \"\"\"\n",
        "You are an assistant that helps tourists around the world to plan their vacation. Your responsibilities are:\n",
        "1. Helping book the hotel.\n",
        "2. Recommending restaurants.\n",
        "3. Warning about potential dangers.\n",
        "\n",
        "If other request is asked return \"I cannot help with this request.\"\n",
        "\"\"\""
      ]
    },
    {
      "cell_type": "code",
      "execution_count": 5,
      "metadata": {
        "id": "8oS9LnnXXedG"
      },
      "outputs": [],
      "source": [
        "model = genai.GenerativeModel(model_name='gemini-1.5-flash-latest', system_instruction=instructions)"
      ]
    },
    {
      "cell_type": "code",
      "execution_count": 6,
      "metadata": {
        "id": "1k6LyJQYm1KM",
        "outputId": "59dcd1d1-8928-4867-e0bd-7df3349cbbcc",
        "colab": {
          "base_uri": "https://localhost:8080/",
          "height": 384
        }
      },
      "outputs": [
        {
          "output_type": "stream",
          "name": "stdout",
          "text": [
            "ON TOPIC: Here are some things to be aware of when visiting the beaches in San Diego:\n",
            "\n",
            "**Safety:**\n",
            "\n",
            "* **Rip Currents:** San Diego has strong rip currents, especially during high surf. Be aware of your surroundings and only swim in areas with lifeguards present.\n",
            "* **Sun Safety:** San Diego has strong sunshine. Wear sunscreen, a hat, and sunglasses to protect yourself from harmful UV rays.\n",
            "* **Jellyfish:**  While not common, there can be jellyfish in the water. Be careful and avoid touching them.\n",
            "* **Beach Erosion:**  Some beaches are prone to erosion, so be aware of potential hazards like uneven sand or steep drop-offs. \n",
            "\n",
            "**Other Things to Consider:**\n",
            "\n",
            "* **Crowds:** Beaches can get very crowded, especially during peak season. Be prepared for crowds and plan your visit accordingly.\n",
            "* **Parking:** Parking can be limited and expensive, especially near popular beaches. Consider using public transportation or parking farther away and walking.\n",
            "* **Beach Regulations:** Be aware of any beach regulations, such as leash laws for dogs or restrictions on bonfires.\n",
            "* **Weather:** San Diego has a mild climate, but weather can be unpredictable. Check the forecast before you go and be prepared for changes.\n",
            "\n",
            "**Have fun and enjoy your time at the beach!** \n",
            "\n",
            "OFF TOPIC: I cannot help with this request. \n",
            "\n"
          ]
        }
      ],
      "source": [
        "print(\"ON TOPIC:\", model.generate_content(\"What should I look out for when I'm going to the beaches in San Diego?\").text)\n",
        "print(\"OFF TOPIC:\", model.generate_content(\"What bowling places do you recommend in Moscow?\").text)"
      ]
    },
    {
      "cell_type": "markdown",
      "metadata": {
        "id": "BPUkURgrYgBr"
      },
      "source": [
        "Let's try another template."
      ]
    },
    {
      "cell_type": "code",
      "execution_count": 7,
      "metadata": {
        "id": "oz-kWAKQYiGi"
      },
      "outputs": [],
      "source": [
        "instructions = \"\"\"\n",
        "You are an assistant at a library. Your task is to recommend books to people, if they do not tell you the genre assume Horror.\n",
        "\"\"\""
      ]
    },
    {
      "cell_type": "code",
      "execution_count": 8,
      "metadata": {
        "id": "3o5CRjdRaZfU"
      },
      "outputs": [],
      "source": [
        "model = genai.GenerativeModel(model_name='gemini-1.5-flash-latest', system_instruction=instructions)"
      ]
    },
    {
      "cell_type": "code",
      "execution_count": 11,
      "metadata": {
        "id": "PoDDTXGFm21K",
        "outputId": "fc9a9f18-80f3-4ceb-fd8b-90e17bfc4d1e",
        "colab": {
          "base_uri": "https://localhost:8080/",
          "height": 384
        }
      },
      "outputs": [
        {
          "output_type": "stream",
          "name": "stdout",
          "text": [
            "## Specified genre:\n",
            "Ah, you're looking for some books with intricate magic systems!  Since you didn't specify a genre, I'll assume you're interested in horror. Here are three recommendations:\n",
            "\n",
            "1. **\"The Lies of Locke Lamora\" by Scott Lynch:** This fantasy novel features a wonderfully detailed magic system based on \"alchemy,\" but with a dark twist. The magic is powerful but dangerous, and the characters use it to pull off elaborate heists and schemes.  \n",
            "\n",
            "2. **\"Jonathan Strange & Mr Norrell\" by Susanna Clarke:**  This epic novel revolves around a complex magic system that's both fascinating and chilling.  Magic is a powerful force with strict rules, but it's also tied to the dark side of human nature. \n",
            "\n",
            "3. **\"The Goblin Emperor\" by Katherine Addison:**  While this book isn't strictly horror, it features a magic system that's both detailed and unsettling. It delves into the history and consequences of magic, exploring its impact on society and individual lives.  \n",
            "\n",
            "Let me know if you'd like to explore other genres or have a different type of magic system in mind!  I'm always happy to delve into the world of books. \n",
            "\n",
            "## Not specified genre:\n",
            "Of course! Since you didn't specify a genre, I'm going to recommend two chilling horror novels. \n",
            "\n",
            "1. **\"The Haunting of Hill House\" by Shirley Jackson:** This classic is a masterfully crafted ghost story that will keep you up at night.  It follows a group of paranormal investigators who visit a haunted house with a dark history. \n",
            "\n",
            "2. **\"The Shining\" by Stephen King:** Another timeless horror, \"The Shining\" tells the story of a family who gets snowed in at a secluded hotel over the winter.  The isolation and the hotel's sinister past soon lead to terrifying consequences. \n",
            "\n",
            "Let me know if you'd prefer something else! \n",
            "\n"
          ]
        }
      ],
      "source": [
        "print(\"## Specified genre:\", model.generate_content(\"Could you recommend me 3 books with hard magic system?\").text, sep=\"\\n\")\n",
        "print(\"## Not specified genre:\", model.generate_content(\"Could you recommend me 2 books?\").text, sep=\"\\n\")"
      ]
    },
    {
      "cell_type": "markdown",
      "metadata": {
        "id": "8mzHkChy_5Ec"
      },
      "source": [
        "## Next steps\n",
        "\n",
        "Be sure to explore other examples of prompting in the repository. Try writing prompts about classifying your own data, or try some of the other prompting techniques such as few-shot prompting."
      ]
    }
  ],
  "metadata": {
    "colab": {
      "name": "Providing_base_cases.ipynb",
      "provenance": [],
      "include_colab_link": true
    },
    "kernelspec": {
      "display_name": "Python 3",
      "name": "python3"
    }
  },
  "nbformat": 4,
  "nbformat_minor": 0
}