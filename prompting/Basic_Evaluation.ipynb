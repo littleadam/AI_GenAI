{
  "cells": [
    {
      "cell_type": "markdown",
      "metadata": {
        "id": "view-in-github",
        "colab_type": "text"
      },
      "source": [
        "<a href=\"https://colab.research.google.com/github/littleadam/AI_ML/blob/main/prompting/Basic_Evaluation.ipynb\" target=\"_parent\"><img src=\"https://colab.research.google.com/assets/colab-badge.svg\" alt=\"Open In Colab\"/></a>"
      ]
    },
    {
      "cell_type": "markdown",
      "metadata": {
        "id": "X0doHtrEl66V"
      },
      "source": [
        "##### Copyright 2024 Google LLC."
      ]
    },
    {
      "cell_type": "code",
      "execution_count": null,
      "metadata": {
        "cellView": "form",
        "id": "2K6KP3hUl7_l"
      },
      "outputs": [],
      "source": [
        "# @title Licensed under the Apache License, Version 2.0 (the \"License\");\n",
        "# you may not use this file except in compliance with the License.\n",
        "# You may obtain a copy of the License at\n",
        "#\n",
        "# https://www.apache.org/licenses/LICENSE-2.0\n",
        "#\n",
        "# Unless required by applicable law or agreed to in writing, software\n",
        "# distributed under the License is distributed on an \"AS IS\" BASIS,\n",
        "# WITHOUT WARRANTIES OR CONDITIONS OF ANY KIND, either express or implied.\n",
        "# See the License for the specific language governing permissions and\n",
        "# limitations under the License."
      ]
    },
    {
      "cell_type": "markdown",
      "metadata": {
        "id": "sP8PQnz1QrcF"
      },
      "source": [
        "# Gemini API: Basic evaluation"
      ]
    },
    {
      "cell_type": "markdown",
      "metadata": {
        "id": "ysy--KfNRrCq"
      },
      "source": [
        "Gemini API's Python SDK can be used for various forms of evaluation, including:\n",
        "- Providing feedback based on selected criteria\n",
        "- Comparing multiple texts\n",
        "- Assigning grades or confidence scores\n",
        "- Identifying weak areas\n",
        "\n",
        "Below is an example of using the LLM to enhance text quality through feedback and grading."
      ]
    },
    {
      "cell_type": "code",
      "execution_count": 1,
      "metadata": {
        "id": "Ne-3gnXqR0hI",
        "outputId": "37ed78ab-2f8b-4bc9-8acf-9fe9717a13fc",
        "colab": {
          "base_uri": "https://localhost:8080/"
        }
      },
      "outputs": [
        {
          "output_type": "stream",
          "name": "stdout",
          "text": [
            "\u001b[?25l   \u001b[90m━━━━━━━━━━━━━━━━━━━━━━━━━━━━━━━━━━━━━━━━\u001b[0m \u001b[32m0.0/153.4 kB\u001b[0m \u001b[31m?\u001b[0m eta \u001b[36m-:--:--\u001b[0m\r\u001b[2K   \u001b[91m━━━━━━━━━━━━━━━━━━━━━━━━━━━━━━━━━━━━━\u001b[0m\u001b[90m╺\u001b[0m\u001b[90m━━\u001b[0m \u001b[32m143.4/153.4 kB\u001b[0m \u001b[31m5.4 MB/s\u001b[0m eta \u001b[36m0:00:01\u001b[0m\r\u001b[2K   \u001b[90m━━━━━━━━━━━━━━━━━━━━━━━━━━━━━━━━━━━━━━━━\u001b[0m \u001b[32m153.4/153.4 kB\u001b[0m \u001b[31m2.6 MB/s\u001b[0m eta \u001b[36m0:00:00\u001b[0m\n",
            "\u001b[?25h\u001b[?25l   \u001b[90m━━━━━━━━━━━━━━━━━━━━━━━━━━━━━━━━━━━━━━━━\u001b[0m \u001b[32m0.0/760.0 kB\u001b[0m \u001b[31m?\u001b[0m eta \u001b[36m-:--:--\u001b[0m\r\u001b[2K   \u001b[91m━━━━━━━━━━━━━━━━━━━━━━━━━━━━━━━━━━━━━━━\u001b[0m\u001b[91m╸\u001b[0m \u001b[32m757.8/760.0 kB\u001b[0m \u001b[31m42.4 MB/s\u001b[0m eta \u001b[36m0:00:01\u001b[0m\r\u001b[2K   \u001b[90m━━━━━━━━━━━━━━━━━━━━━━━━━━━━━━━━━━━━━━━━\u001b[0m \u001b[32m760.0/760.0 kB\u001b[0m \u001b[31m15.5 MB/s\u001b[0m eta \u001b[36m0:00:00\u001b[0m\n",
            "\u001b[?25h"
          ]
        }
      ],
      "source": [
        "!pip install -U -q google-generativeai"
      ]
    },
    {
      "cell_type": "code",
      "execution_count": 2,
      "metadata": {
        "id": "EconMHePQHGw"
      },
      "outputs": [],
      "source": [
        "import google.generativeai as genai\n",
        "\n",
        "from IPython.display import Markdown"
      ]
    },
    {
      "cell_type": "markdown",
      "metadata": {
        "id": "eomJzCa6lb90"
      },
      "source": [
        "## Configure your API key\n",
        "\n",
        "To run the following cell, your API key must be stored it in a Colab Secret named `GOOGLE_API_KEY`. If you don't already have an API key, or you're not sure how to create a Colab Secret, see [Authentication](https://github.com/google-gemini/cookbook/blob/main/quickstarts/Authentication.ipynb) for an example."
      ]
    },
    {
      "cell_type": "code",
      "execution_count": 3,
      "metadata": {
        "id": "v-JZzORUpVR2"
      },
      "outputs": [],
      "source": [
        "from google.colab import userdata\n",
        "GOOGLE_API_KEY=userdata.get('GOOGLE_API_KEY')\n",
        "\n",
        "genai.configure(api_key=GOOGLE_API_KEY)"
      ]
    },
    {
      "cell_type": "markdown",
      "metadata": {
        "id": "L-Wt23A_uzFZ"
      },
      "source": [
        "## Example\n",
        "\n",
        "Start by defining some system instructions for this problem. For demonstration purposes, the use case involves prompting the model to write an essay with some mistakes. Remember that for generation tasks like writing an essay, you can change the temperature of the model to get more creative answers. Here, you can use `\"temperature\": 0` for predictability."
      ]
    },
    {
      "cell_type": "code",
      "execution_count": 4,
      "metadata": {
        "id": "zNw1Hele0Bne",
        "outputId": "43422c70-b36b-4242-b45a-f6d6e25b2e89",
        "colab": {
          "base_uri": "https://localhost:8080/",
          "height": 398
        }
      },
      "outputs": [
        {
          "output_type": "execute_result",
          "data": {
            "text/plain": [
              "<IPython.core.display.Markdown object>"
            ],
            "text/markdown": "## The Benefits of Reading: A Journey to the Mind\n\nReading is a fundamental human activity that has been around for centuries. It's a powerful tool that can transport us to different worlds, teach us new things, and help us grow as individuals. In this essay, I will argue that reading has many benefits, including improving our vocabulary, enhancing our critical thinking skills, and providing us with a sense of escapism.\n\nFirstly, reading is a great way to expand our vocabulary. By exposing ourselves to different words and phrases, we can learn new ways to express ourselves. This can be especially helpful for students who are trying to improve their writing skills. For example, reading classic literature can introduce us to a wide range of vocabulary that we might not encounter in everyday conversation.\n\nSecondly, reading can help us develop our critical thinking skills. When we read, we are forced to analyze the text and make inferences about the author's intentions. This process helps us to think critically and to form our own opinions. For example, reading a news article can help us to identify bias and to evaluate the credibility of the information presented.\n\nThirdly, reading can provide us with a sense of escapism. When we are immersed in a good book, we can forget about our worries and stresses. This can be a great way to relax and de-stress after a long day. For example, reading a fantasy novel can transport us to a world of magic and adventure, allowing us to escape from the realities of our own lives.\n\nIn conclusion, reading is a valuable activity that offers many benefits. It can help us to improve our vocabulary, enhance our critical thinking skills, and provide us with a sense of escapism. Whether we are reading for pleasure or for education, reading is a journey that can enrich our lives in many ways. \n\nHowever, it's important to note that not all reading is created equal. Reading mindless entertainment can be a waste of time, and it's important to choose books that are challenging and thought-provoking. By selecting books that are appropriate for our level and interests, we can maximize the benefits of reading and unlock the full potential of our minds. \n"
          },
          "metadata": {},
          "execution_count": 4
        }
      ],
      "source": [
        "student_system_prompt = \"\"\"You're a college student. Your job is to write an essay riddled with common mistakes and a few major ones.\n",
        "The essay should have mistakes regarding clarity, grammar, argumentation, and vocabulary.\n",
        "Ensure your essay includes a clear thesis statement. You should write only an essay, so do not include any notes.\"\"\"\n",
        "\n",
        "student_model = genai.GenerativeModel(model_name='gemini-1.5-flash-latest', generation_config={\"temperature\": 0},\n",
        "                              system_instruction=student_system_prompt)\n",
        "\n",
        "essay = student_model.generate_content(\"Write an essay about benefits of reading.\").text\n",
        "Markdown(essay)"
      ]
    },
    {
      "cell_type": "code",
      "execution_count": 5,
      "metadata": {
        "id": "mzp8ZFXf0-OT",
        "outputId": "4ac44171-f548-4685-a597-5f26b0b14b19",
        "colab": {
          "base_uri": "https://localhost:8080/",
          "height": 746
        }
      },
      "outputs": [
        {
          "output_type": "execute_result",
          "data": {
            "text/plain": [
              "<IPython.core.display.Markdown object>"
            ],
            "text/markdown": "## Evaluation:\n\n**Thesis Statement:** 4/5 - The thesis statement clearly states the main argument of the essay, but it could be more specific. \n\n**Clarity and Precision of Language:** 4/5 - The language is generally clear and precise, but there are a few instances where the writing could be more concise.\n\n**Grammar and Punctuation:** 5/5 - No significant errors in grammar or punctuation.\n\n**Argumentation:** 4/5 - The essay presents a strong argument for the benefits of reading, but it could be strengthened by providing more specific examples and evidence.\n\n## Corrected Version:\n\n## The Benefits of Reading: A Journey to the Mind\n\nReading is a fundamental human activity that has been around for centuries. It's a powerful tool that can transport us to different worlds, teach us new things, and help us grow as individuals. This essay will argue that reading offers numerous benefits, including expanding our vocabulary, enhancing our critical thinking skills, and providing a sense of escapism.\n\n**Firstly, reading is a powerful tool for expanding our vocabulary.** By exposing ourselves to different words and phrases, we learn new ways to express ourselves. This is particularly helpful for students seeking to improve their writing skills. For instance, reading classic literature introduces us to a wide range of vocabulary that we might not encounter in everyday conversation. **The works of Shakespeare, for example, are renowned for their rich and complex language, which can significantly expand our vocabulary.**\n\n**Secondly, reading cultivates critical thinking skills.** When we read, we are forced to analyze the text and make inferences about the author's intentions. This process encourages critical thinking and the formation of independent opinions. **For example, reading a news article requires us to identify potential biases and evaluate the credibility of the information presented.**\n\n**Thirdly, reading provides a sense of escapism.** When immersed in a good book, we can forget our worries and stresses. This can be a great way to relax and de-stress after a long day. **Reading a fantasy novel, for instance, can transport us to a world of magic and adventure, allowing us to escape the realities of our own lives.**\n\n**In conclusion, reading is a valuable activity that offers numerous benefits.** It can help us to improve our vocabulary, enhance our critical thinking skills, and provide us with a sense of escapism. Whether we are reading for pleasure or for education, reading is a journey that can enrich our lives in many ways. \n\n**However, it's important to note that not all reading is created equal.** Reading mindless entertainment can be a waste of time. It's crucial to choose books that are challenging and thought-provoking. By selecting books that are appropriate for our level and interests, we can maximize the benefits of reading and unlock the full potential of our minds. \n\n**Changes Made:**\n\n* **Added specific examples:** The essay now includes specific examples to support the arguments, such as mentioning Shakespeare's works and the importance of analyzing news articles.\n* **Strengthened the thesis statement:** The thesis statement is now more specific by mentioning the three main benefits of reading.\n* **Improved clarity and conciseness:** The language has been made more concise and precise throughout the essay.\n* **Added transitions:** Transitions have been added to improve the flow of the essay and connect the different ideas.\n* **Added a concluding sentence:** A concluding sentence has been added to summarize the main points of the essay. \n"
          },
          "metadata": {},
          "execution_count": 5
        }
      ],
      "source": [
        "teacher_system_prompt = f\"\"\"\n",
        "As a teacher, you are tasked with grading students' essays.\n",
        "Please follow these instructions for evaluation:\n",
        "\n",
        "1. Evaluate the essay on a scale of 1-5 based on the following criteria:\n",
        "- Thesis statement,\n",
        "- Clarity and precision of language,\n",
        "- Grammar and punctuation,\n",
        "- Argumentation\n",
        "\n",
        "2. Write a corrected version of the essay, addressing any identified issues\n",
        "in the original submission. Point what changes were made.\n",
        "\"\"\"\n",
        "teacher_model = genai.GenerativeModel(model_name='gemini-1.5-flash-latest', generation_config={\"temperature\": 0},\n",
        "                                         system_instruction=teacher_system_prompt)\n",
        "\n",
        "Markdown(teacher_model.generate_content(essay).text)"
      ]
    },
    {
      "cell_type": "markdown",
      "metadata": {
        "id": "4Hbzc0EVDHxS"
      },
      "source": [
        "## Next steps\n",
        "\n",
        "Be sure to explore other examples of prompting in the repository. Try writing your own prompts for evaluating texts."
      ]
    }
  ],
  "metadata": {
    "colab": {
      "name": "Basic_Evaluation.ipynb",
      "provenance": [],
      "include_colab_link": true
    },
    "kernelspec": {
      "display_name": "Python 3",
      "name": "python3"
    }
  },
  "nbformat": 4,
  "nbformat_minor": 0
}